{
 "cells": [
  {
   "cell_type": "markdown",
   "id": "eea3b623-92ce-436d-8a9e-841cf7a609b1",
   "metadata": {},
   "source": [
    "# IS509 Assignment 4\n"
   ]
  },
  {
   "cell_type": "markdown",
   "id": "f07608fc-74e7-4310-8fbe-801de346acc2",
   "metadata": {},
   "source": [
    "#### After applying required preprocessing steps, fit specified models to the data.  \n",
    "    \n",
    "#### When necessary you can use (%70 train - %30 test) or (%60 train - %20 validation - %20 test) splits for the questions.\n",
    "\n",
    "\n",
    "## PART 1-Classification\n",
    "    \n",
    "**Q1.(50).** Fit Logistic Regression, Gaussian Naive Bayes,  Decision Tree models to your training set. **Perform hyperparameter tuning** and try to figure out the best model. Report the model performances. Which performance metric would you prefer to use for Part I? Why? Comment on your findings.\n",
    "    \n",
    "### PART 2\n",
    "    \n",
    "**Q2.(15).** Generate k-means models for k= 2, 3, 4, 5, 6, 7, 8, 9, and 10. Determine the optimal value of k by looking at the wss graph and silhouette scores.   \n",
    "\n",
    "**Q3.(15).** Generate DBSCAN models for epsilon values between 0.1 (included) and 2.5(included) incrementing it with steps=0.10 and for min_samples=5, 10, 15 and 20. Find the optimal value of k by adjusted rand scores. (While calculating adjusted rand scores, you will need true labels. Please see https://scikit-learn.org/stable/modules/generated/sklearn.metrics.adjusted_rand_score.html#sklearn.metrics.adjusted_rand_score)   \n",
    "\n",
    "**Q4.(20).** Plot the clusters for only the optimal k values based on predicted clusters that you obtain Q2 and Q3. Plot the original data based on the true labels. Did you obtain the same optimal k values in Q2 and Q3? Comment on the quality of the clusters that you obtained in Q2 and Q3. Can we predict the true label of the data by using clustering? Which algorithm gave a better result? What could be the reason one of them outperforms in different cases?\n",
    "\n",
    "**Do not forget to use random_state and seeds for reproducibility.** "
   ]
  },
  {
   "cell_type": "markdown",
   "id": "8d65f5d7",
   "metadata": {},
   "source": [
    "**Preprocessing steps**"
   ]
  },
  {
   "cell_type": "code",
   "execution_count": 1,
   "id": "cca71cf8",
   "metadata": {},
   "outputs": [],
   "source": [
    "import numpy as np\n",
    "import pandas as pd\n",
    "import seaborn as sns\n",
    "import matplotlib.pyplot as plt\n",
    "from sklearn.naive_bayes import GaussianNB\n",
    "from sklearn.tree import DecisionTreeClassifier\n",
    "from sklearn.linear_model import LogisticRegression \n",
    "from sklearn import linear_model\n",
    "from sklearn import metrics \n",
    "from sklearn import datasets, tree\n",
    "from sklearn.model_selection import train_test_split\n",
    "from sklearn import preprocessing\n",
    "from sklearn.preprocessing import StandardScaler\n",
    "from sklearn.decomposition import PCA\n",
    "from sklearn.cluster import KMeans, DBSCAN\n",
    "from sklearn.metrics.cluster import adjusted_rand_score\n",
    "from sklearn.metrics import silhouette_score, silhouette_samples\n",
    "from sklearn.pipeline import Pipeline\n",
    "from sklearn.model_selection import GridSearchCV\n"
   ]
  },
  {
   "cell_type": "code",
   "execution_count": 2,
   "id": "74c9ca6a",
   "metadata": {},
   "outputs": [
    {
     "data": {
      "text/html": [
       "<div>\n",
       "<style scoped>\n",
       "    .dataframe tbody tr th:only-of-type {\n",
       "        vertical-align: middle;\n",
       "    }\n",
       "\n",
       "    .dataframe tbody tr th {\n",
       "        vertical-align: top;\n",
       "    }\n",
       "\n",
       "    .dataframe thead th {\n",
       "        text-align: right;\n",
       "    }\n",
       "</style>\n",
       "<table border=\"1\" class=\"dataframe\">\n",
       "  <thead>\n",
       "    <tr style=\"text-align: right;\">\n",
       "      <th></th>\n",
       "      <th>x0</th>\n",
       "      <th>x1</th>\n",
       "      <th>y</th>\n",
       "    </tr>\n",
       "  </thead>\n",
       "  <tbody>\n",
       "    <tr>\n",
       "      <th>0</th>\n",
       "      <td>281.931378</td>\n",
       "      <td>145.018979</td>\n",
       "      <td>1</td>\n",
       "    </tr>\n",
       "    <tr>\n",
       "      <th>1</th>\n",
       "      <td>357.750303</td>\n",
       "      <td>119.483971</td>\n",
       "      <td>1</td>\n",
       "    </tr>\n",
       "    <tr>\n",
       "      <th>2</th>\n",
       "      <td>381.598615</td>\n",
       "      <td>146.832723</td>\n",
       "      <td>1</td>\n",
       "    </tr>\n",
       "    <tr>\n",
       "      <th>3</th>\n",
       "      <td>377.749439</td>\n",
       "      <td>134.867567</td>\n",
       "      <td>1</td>\n",
       "    </tr>\n",
       "    <tr>\n",
       "      <th>4</th>\n",
       "      <td>329.865988</td>\n",
       "      <td>143.835645</td>\n",
       "      <td>0</td>\n",
       "    </tr>\n",
       "  </tbody>\n",
       "</table>\n",
       "</div>"
      ],
      "text/plain": [
       "           x0          x1  y\n",
       "0  281.931378  145.018979  1\n",
       "1  357.750303  119.483971  1\n",
       "2  381.598615  146.832723  1\n",
       "3  377.749439  134.867567  1\n",
       "4  329.865988  143.835645  0"
      ]
     },
     "execution_count": 2,
     "metadata": {},
     "output_type": "execute_result"
    }
   ],
   "source": [
    "data = pd.read_csv(\"data.csv\")\n",
    "data.head()\n",
    "# From the below result, we observe that there is no categorical independent variables (features)\n",
    "# Only the target variable is categorical (if it were numeric, this would be a regression type problem)"
   ]
  },
  {
   "cell_type": "code",
   "execution_count": 3,
   "id": "273c0421",
   "metadata": {},
   "outputs": [
    {
     "data": {
      "text/plain": [
       "(3000, 3)"
      ]
     },
     "execution_count": 3,
     "metadata": {},
     "output_type": "execute_result"
    }
   ],
   "source": [
    "data.shape"
   ]
  },
  {
   "cell_type": "code",
   "execution_count": 4,
   "id": "e1510724",
   "metadata": {},
   "outputs": [
    {
     "data": {
      "text/plain": [
       "x0    0\n",
       "x1    0\n",
       "y     0\n",
       "dtype: int64"
      ]
     },
     "execution_count": 4,
     "metadata": {},
     "output_type": "execute_result"
    }
   ],
   "source": [
    "# Checking if there is any missing value\n",
    "data.isna().sum()"
   ]
  },
  {
   "cell_type": "code",
   "execution_count": 5,
   "id": "585d90c7",
   "metadata": {},
   "outputs": [
    {
     "data": {
      "text/html": [
       "<div>\n",
       "<style scoped>\n",
       "    .dataframe tbody tr th:only-of-type {\n",
       "        vertical-align: middle;\n",
       "    }\n",
       "\n",
       "    .dataframe tbody tr th {\n",
       "        vertical-align: top;\n",
       "    }\n",
       "\n",
       "    .dataframe thead th {\n",
       "        text-align: right;\n",
       "    }\n",
       "</style>\n",
       "<table border=\"1\" class=\"dataframe\">\n",
       "  <thead>\n",
       "    <tr style=\"text-align: right;\">\n",
       "      <th></th>\n",
       "      <th>x0</th>\n",
       "      <th>x1</th>\n",
       "      <th>y</th>\n",
       "    </tr>\n",
       "  </thead>\n",
       "  <tbody>\n",
       "    <tr>\n",
       "      <th>count</th>\n",
       "      <td>3000.000000</td>\n",
       "      <td>3000.000000</td>\n",
       "      <td>3000.000000</td>\n",
       "    </tr>\n",
       "    <tr>\n",
       "      <th>mean</th>\n",
       "      <td>215.053621</td>\n",
       "      <td>76.322018</td>\n",
       "      <td>2.566667</td>\n",
       "    </tr>\n",
       "    <tr>\n",
       "      <th>std</th>\n",
       "      <td>77.709345</td>\n",
       "      <td>43.853373</td>\n",
       "      <td>1.667278</td>\n",
       "    </tr>\n",
       "    <tr>\n",
       "      <th>min</th>\n",
       "      <td>75.168939</td>\n",
       "      <td>6.669953</td>\n",
       "      <td>0.000000</td>\n",
       "    </tr>\n",
       "    <tr>\n",
       "      <th>25%</th>\n",
       "      <td>171.108588</td>\n",
       "      <td>46.358931</td>\n",
       "      <td>1.000000</td>\n",
       "    </tr>\n",
       "    <tr>\n",
       "      <th>50%</th>\n",
       "      <td>200.585346</td>\n",
       "      <td>61.005847</td>\n",
       "      <td>3.000000</td>\n",
       "    </tr>\n",
       "    <tr>\n",
       "      <th>75%</th>\n",
       "      <td>261.233440</td>\n",
       "      <td>118.031657</td>\n",
       "      <td>4.000000</td>\n",
       "    </tr>\n",
       "    <tr>\n",
       "      <th>max</th>\n",
       "      <td>387.781802</td>\n",
       "      <td>167.586735</td>\n",
       "      <td>5.000000</td>\n",
       "    </tr>\n",
       "  </tbody>\n",
       "</table>\n",
       "</div>"
      ],
      "text/plain": [
       "                x0           x1            y\n",
       "count  3000.000000  3000.000000  3000.000000\n",
       "mean    215.053621    76.322018     2.566667\n",
       "std      77.709345    43.853373     1.667278\n",
       "min      75.168939     6.669953     0.000000\n",
       "25%     171.108588    46.358931     1.000000\n",
       "50%     200.585346    61.005847     3.000000\n",
       "75%     261.233440   118.031657     4.000000\n",
       "max     387.781802   167.586735     5.000000"
      ]
     },
     "execution_count": 5,
     "metadata": {},
     "output_type": "execute_result"
    }
   ],
   "source": [
    "data.describe()"
   ]
  },
  {
   "cell_type": "code",
   "execution_count": 6,
   "id": "3323f4db",
   "metadata": {},
   "outputs": [
    {
     "name": "stdout",
     "output_type": "stream",
     "text": [
      "unique values of the target variable y: [1 0 2 3 4 5]\n"
     ]
    }
   ],
   "source": [
    "print('unique values of the target variable y:', data.y.unique())"
   ]
  },
  {
   "cell_type": "code",
   "execution_count": 7,
   "id": "812cf5b1",
   "metadata": {},
   "outputs": [
    {
     "data": {
      "text/plain": [
       "Text(0.5, 1.0, 'y')"
      ]
     },
     "execution_count": 7,
     "metadata": {},
     "output_type": "execute_result"
    },
    {
     "data": {
      "image/png": "[encoded data removed]",
      "text/plain": [
       "<Figure size 2160x1080 with 4 Axes>"
      ]
     },
     "metadata": {
      "needs_background": "light"
     },
     "output_type": "display_data"
    }
   ],
   "source": [
    "# Taking a look at histograms to see of there is something unusual\n",
    "rows=2\n",
    "columns=2\n",
    "f, axes = plt.subplots(rows,columns, figsize=(30, 15))\n",
    "\n",
    "axes[0,0].hist(data['x0'])\n",
    "axes[0,1].hist(data['x1'])\n",
    "axes[1,0].hist(data['y'])\n",
    "\n",
    "axes[0,0].set_title('x0')\n",
    "axes[0,1].set_title('x1')\n",
    "axes[1,0].set_title('y')"
   ]
  },
  {
   "cell_type": "code",
   "execution_count": 8,
   "id": "b2ae8ae0",
   "metadata": {},
   "outputs": [
    {
     "name": "stdout",
     "output_type": "stream",
     "text": [
      "number of outliers in x0 : 0\n",
      "number of outliers in x1 : 0\n",
      "number of outliers in y : 0\n"
     ]
    }
   ],
   "source": [
    "# We check for outliers with 1.5 IQR\n",
    "for columns in data.columns:\n",
    "    quantiles=data[columns].quantile(q=[0.25,0.50,0.75]).values\n",
    "    q1=quantiles[0]\n",
    "    q2=quantiles[1]\n",
    "    q3=quantiles[2]\n",
    "    iqr=q3-q1\n",
    "    outliers=data[(data[columns] < q1-1.5*iqr ) | (data[columns] >  q3+ 1.5*iqr)][columns]\n",
    "    print(\"number of outliers in\", columns, \":\", (len(outliers)))"
   ]
  },
  {
   "cell_type": "code",
   "execution_count": 9,
   "id": "7ceccd94",
   "metadata": {},
   "outputs": [
    {
     "name": "stdout",
     "output_type": "stream",
     "text": [
      "Training set size: (2100, 2)\n",
      "Test set size: (900, 2)\n"
     ]
    }
   ],
   "source": [
    "# Train and test split of data\n",
    "X_train, X_test, y_train, y_test = train_test_split(data.iloc[:,:2],data.y,test_size=0.3,random_state=22)\n",
    "print('Training set size:', X_train.shape)\n",
    "print('Test set size:', X_test.shape)"
   ]
  },
  {
   "cell_type": "code",
   "execution_count": 10,
   "id": "ad8a4f1d",
   "metadata": {},
   "outputs": [],
   "source": [
    "# X_train.describe()\n",
    "# X_train.head()\n",
    "# X_test.head()"
   ]
  },
  {
   "cell_type": "code",
   "execution_count": 11,
   "id": "d6c8fe89",
   "metadata": {},
   "outputs": [],
   "source": [
    "# Next, we apply zero mean and unit standard deviation standardization to standardize our training set\n",
    "# We apply the same standardization that we applied with the training set to the test set as well \n",
    "# In other words, we use the mean and the std dev of only the training set while performing these standardizations\n",
    "\n",
    "scaler = preprocessing.StandardScaler().fit(X_train)\n",
    "\n",
    "scaled_train = scaler.transform(X_train)\n",
    "scaled_train = pd.DataFrame(scaled_train, columns=X_train.columns)\n",
    "\n",
    "scaled_test = scaler.transform(X_test)\n",
    "scaled_test = pd.DataFrame(scaled_test, columns=X_test.columns)"
   ]
  },
  {
   "cell_type": "code",
   "execution_count": 12,
   "id": "d1600118",
   "metadata": {},
   "outputs": [],
   "source": [
    "# scaled_train.head()\n",
    "# scaled_test.head()"
   ]
  },
  {
   "cell_type": "markdown",
   "id": "4bcadaf0",
   "metadata": {},
   "source": [
    "**Part 1 - Classification**"
   ]
  },
  {
   "cell_type": "markdown",
   "id": "1150e187",
   "metadata": {},
   "source": [
    "**Question 1**"
   ]
  },
  {
   "cell_type": "markdown",
   "id": "c8f05718",
   "metadata": {},
   "source": [
    "**Logistic Regression with Hyperparameter Tuning**"
   ]
  },
  {
   "cell_type": "code",
   "execution_count": 13,
   "id": "bdca897d",
   "metadata": {},
   "outputs": [
    {
     "name": "stdout",
     "output_type": "stream",
     "text": [
      "train accuracy =  0.741904761904762\n",
      "test accuracy =  0.7233333333333334\n",
      "test confusion matrix:\n",
      " [[127  12   0   0   0   0]\n",
      " [ 22 117   0   0   0   0]\n",
      " [  0   0 165   0   0   0]\n",
      " [  0   0   0 156   0   0]\n",
      " [  0   0   0   0  86 160]\n",
      " [  0   0   0   0  55   0]]\n",
      "correctly classified examples =  651\n",
      "total number of classified examples =  900\n"
     ]
    }
   ],
   "source": [
    "modelLR = LogisticRegression()\n",
    "modelLR.fit(scaled_train, y_train)\n",
    "y_train_pred_LR = modelLR.predict(scaled_train)\n",
    "y_test_pred_LR = modelLR.predict(scaled_test)\n",
    "\n",
    "correctly_classified = 0\n",
    "number_of_classifications = 0\n",
    "for r in range (6):\n",
    "    for c in range (6):\n",
    "        number_of_classifications += metrics.confusion_matrix(y_test_pred_LR, y_test)[r,c]\n",
    "        if r ==c:\n",
    "            correctly_classified += metrics.confusion_matrix(y_test_pred_LR, y_test)[r,c]\n",
    "            c += 1\n",
    "    r += 1\n",
    "\n",
    "print('train accuracy = ', metrics.accuracy_score(y_train_pred_LR, y_train))\n",
    "print('test accuracy = ', metrics.accuracy_score(y_test_pred_LR, y_test))\n",
    "print('test confusion matrix:\\n', metrics.confusion_matrix(y_test_pred_LR, y_test))\n",
    "print('correctly classified examples = ', correctly_classified)\n",
    "print('total number of classified examples = ', number_of_classifications)"
   ]
  },
  {
   "cell_type": "code",
   "execution_count": 14,
   "id": "469b78be",
   "metadata": {},
   "outputs": [
    {
     "name": "stdout",
     "output_type": "stream",
     "text": [
      "train accuracy =  0.7842857142857143\n",
      "test accuracy =  0.7755555555555556\n",
      "test confusion matrix:\n",
      " [[121  14   0   0   0   0]\n",
      " [ 28 115   0   0   0   0]\n",
      " [  0   0 165   0   0   0]\n",
      " [  0   0   0 156   0   0]\n",
      " [  0   0   0   0 141 160]\n",
      " [  0   0   0   0   0   0]]\n",
      "correctly classified examples =  698\n",
      "total number of classified examples =  900\n"
     ]
    }
   ],
   "source": [
    "modelLR = LogisticRegression(multi_class='ovr')\n",
    "modelLR.fit(scaled_train, y_train)\n",
    "y_train_pred_LR = modelLR.predict(scaled_train)\n",
    "y_test_pred_LR = modelLR.predict(scaled_test)\n",
    "\n",
    "correctly_classified = 0\n",
    "number_of_classifications = 0\n",
    "for r in range (6):\n",
    "    for c in range (6):\n",
    "        number_of_classifications += metrics.confusion_matrix(y_test_pred_LR, y_test)[r,c]\n",
    "        if r ==c:\n",
    "            correctly_classified += metrics.confusion_matrix(y_test_pred_LR, y_test)[r,c]\n",
    "            c += 1\n",
    "    r += 1\n",
    "\n",
    "print('train accuracy = ', metrics.accuracy_score(y_train_pred_LR, y_train))\n",
    "print('test accuracy = ', metrics.accuracy_score(y_test_pred_LR, y_test))\n",
    "print('test confusion matrix:\\n', metrics.confusion_matrix(y_test_pred_LR, y_test))\n",
    "print('correctly classified examples = ', correctly_classified)\n",
    "print('total number of classified examples = ', number_of_classifications)"
   ]
  },
  {
   "cell_type": "markdown",
   "id": "9764a642",
   "metadata": {},
   "source": [
    "**Performance of Logistic Regression**\n",
    "\n",
    "We fit Logistic Regression models by using the training dataset. \n",
    "We tried multi_class='auto' by default and then set multi_class='ovr' that is One-vs-rest. This is a heuristic method for using binary classification algorithms for multi-class classification.\n",
    "\n",
    "It splits the multi-class dataset into multiple binary classification problems. A binary classifier is then trained on each binary classification problem and predictions are made using the model that is the most confident.\n",
    "\n",
    "When we apply each model generated by fitting the training set to the test dataset, we obtain a corresponding confusion matrix as shown above. This matrix present us the number of observations that are classified correctly and the number of observations that are misclassified by the generated model for the unseen test observations. The diagonal elements correspond to the examples that are correctly classified. Our aim is to increase the number of examples fall into the diagonal in classification problems. \n",
    "\n",
    "Here, we estimated 900 observations that were in our test dataset. From the sum of diagonal values, we observe that One-vs-rest approach provides a higher accuracy than the other as 0.7756 for the test data. \n",
    "\n",
    "When we compare the accuracy of the training and the test datasets, we observe that they are close to each other. \n",
    "\n",
    "If there were overfitting, the test accuracy would be much lower than the training accuracy. We observe overfitting when the model perfectly fits to the training data so that it is not generalizable enough for the unseen examples. \n",
    "\n",
    "In oversimplification, we would observe low accuracy values for both test and training sets because the model would be too simple to explain the complex relationship within the data. \n",
    "\n",
    "In this example, there no indication of overfitting or oversimplification. \n",
    "\n",
    "The accuracy levels do not seem to be sufficiently high. "
   ]
  },
  {
   "cell_type": "markdown",
   "id": "3a4a368b",
   "metadata": {},
   "source": [
    "**Gaussian Naive Bayes**"
   ]
  },
  {
   "cell_type": "markdown",
   "id": "757ac8ed",
   "metadata": {},
   "source": [
    "The Naive Bayes model assumes that input features are independent of each other. The reason of this assumption is to decrease the computational complexity of the Bayes Theorem. However, it is commonly used even this assumption does not hold or Bayesian Belief Networks may be used in this case. Below, we check the correlation between x0 and x1 to check if they are correlated or not that is if there is any linear relationship between these 2 input variables. We observe that correlation between them is not considered as high."
   ]
  },
  {
   "cell_type": "code",
   "execution_count": 15,
   "id": "31aef860",
   "metadata": {},
   "outputs": [
    {
     "data": {
      "text/html": [
       "<div>\n",
       "<style scoped>\n",
       "    .dataframe tbody tr th:only-of-type {\n",
       "        vertical-align: middle;\n",
       "    }\n",
       "\n",
       "    .dataframe tbody tr th {\n",
       "        vertical-align: top;\n",
       "    }\n",
       "\n",
       "    .dataframe thead th {\n",
       "        text-align: right;\n",
       "    }\n",
       "</style>\n",
       "<table border=\"1\" class=\"dataframe\">\n",
       "  <thead>\n",
       "    <tr style=\"text-align: right;\">\n",
       "      <th></th>\n",
       "      <th>x0</th>\n",
       "      <th>x1</th>\n",
       "      <th>y</th>\n",
       "    </tr>\n",
       "  </thead>\n",
       "  <tbody>\n",
       "    <tr>\n",
       "      <th>x0</th>\n",
       "      <td>1.000000</td>\n",
       "      <td>0.598198</td>\n",
       "      <td>-0.680922</td>\n",
       "    </tr>\n",
       "    <tr>\n",
       "      <th>x1</th>\n",
       "      <td>0.598198</td>\n",
       "      <td>1.000000</td>\n",
       "      <td>-0.641279</td>\n",
       "    </tr>\n",
       "    <tr>\n",
       "      <th>y</th>\n",
       "      <td>-0.680922</td>\n",
       "      <td>-0.641279</td>\n",
       "      <td>1.000000</td>\n",
       "    </tr>\n",
       "  </tbody>\n",
       "</table>\n",
       "</div>"
      ],
      "text/plain": [
       "          x0        x1         y\n",
       "x0  1.000000  0.598198 -0.680922\n",
       "x1  0.598198  1.000000 -0.641279\n",
       "y  -0.680922 -0.641279  1.000000"
      ]
     },
     "execution_count": 15,
     "metadata": {},
     "output_type": "execute_result"
    }
   ],
   "source": [
    "data.corr()"
   ]
  },
  {
   "cell_type": "code",
   "execution_count": 16,
   "id": "6f20c04c",
   "metadata": {},
   "outputs": [
    {
     "name": "stdout",
     "output_type": "stream",
     "text": [
      "test confusion matrix:\n",
      " [[128  12   0   0   0   0]\n",
      " [ 21 117   0   0   0   0]\n",
      " [  0   0 164   0   0   0]\n",
      " [  0   0   0 156   0   0]\n",
      " [  0   0   1   0 141   0]\n",
      " [  0   0   0   0   0 160]]\n",
      "train accuracy =  0.9642857142857143\n",
      "test accuracy =  0.9622222222222222\n",
      "correctly classified examples =  866\n",
      "total number of classified examples =  900\n"
     ]
    }
   ],
   "source": [
    "modelNB = GaussianNB()\n",
    "modelNB.fit(scaled_train, y_train)\n",
    "y_train_pred_NB = modelNB.predict(scaled_train)\n",
    "y_test_pred_NB = modelNB.predict(scaled_test)\n",
    "\n",
    "r = 0 \n",
    "c = 0\n",
    "correctly_classified = 0\n",
    "number_of_classifications = 0\n",
    "for r in range (6):\n",
    "    for c in range (6):\n",
    "        number_of_classifications += metrics.confusion_matrix(y_test_pred_NB, y_test)[r,c]\n",
    "        if r ==c:\n",
    "            correctly_classified += metrics.confusion_matrix(y_test_pred_NB, y_test)[r,c]\n",
    "            c += 1\n",
    "    r += 1\n",
    "        \n",
    "print('test confusion matrix:\\n', metrics.confusion_matrix(y_test_pred_NB, y_test))\n",
    "print('train accuracy = ', metrics.accuracy_score(y_train_pred_NB, y_train))\n",
    "print('test accuracy = ', metrics.accuracy_score(y_test_pred_NB, y_test))\n",
    "print('correctly classified examples = ', correctly_classified)\n",
    "print('total number of classified examples = ', number_of_classifications)"
   ]
  },
  {
   "cell_type": "markdown",
   "id": "e5acac71",
   "metadata": {},
   "source": [
    "**Performance of Gaussian Naive Bayes**\n",
    "\n",
    "We fit a Gaussian Naive Bayes model by using the training dataset. \n",
    "\n",
    "Then, we apply this model to the unseen observations in the test dataset and obtain the above confusion matrix. \n",
    "\n",
    "We estimated 900 unseen observations from our test dataset and from the diagonal values, we observe that 866 of them are correctly classified. This result gives us the accuracy of test dataset as 866/900 = 0.9622. \n",
    "\n",
    "When we compare the accuracy of the training and the test dataset, we observe that they are both high and close to each other. \n",
    "\n",
    "If there were overfitting, the test accuracy would be much lower than the training accuracy. We observe overfitting when the model perfectly fit to the training data so that it is not generalizable enough for the unseen examples. \n",
    "\n",
    "In oversimplification, we would observe low accuracy values for both test and training sets because the model would be too simple to explain the complex relationship within the data. \n",
    "\n",
    "In this example, there no indication of overfitting or oversimplification. "
   ]
  },
  {
   "cell_type": "markdown",
   "id": "b22ec984",
   "metadata": {},
   "source": [
    "**Decision Tree with Hyperparameter Tuning**"
   ]
  },
  {
   "cell_type": "code",
   "execution_count": 17,
   "id": "52869eab",
   "metadata": {},
   "outputs": [
    {
     "name": "stdout",
     "output_type": "stream",
     "text": [
      "    gini_test  entropy_test  gini_train  entropy_train\n",
      "2    0.513333      0.656667    0.540952       0.694762\n",
      "3    0.656667      0.842222    0.693810       0.852857\n",
      "4    0.850000      0.938889    0.859524       0.948095\n",
      "5    0.946667      0.952222    0.949048       0.961905\n",
      "6    0.960000      0.966667    0.962857       0.973810\n",
      "7    0.974444      1.000000    0.975714       1.000000\n",
      "8    1.000000      1.000000    1.000000       1.000000\n",
      "9    1.000000      1.000000    1.000000       1.000000\n",
      "10   1.000000      1.000000    1.000000       1.000000\n",
      "11   1.000000      1.000000    1.000000       1.000000\n",
      "12   1.000000      1.000000    1.000000       1.000000\n",
      "13   1.000000      1.000000    1.000000       1.000000\n",
      "14   1.000000      1.000000    1.000000       1.000000\n"
     ]
    },
    {
     "data": {
      "text/plain": [
       "Text(0.5, 1.0, 'Accuracy of tuned decision tree models for the test and training datasets')"
      ]
     },
     "execution_count": 17,
     "metadata": {},
     "output_type": "execute_result"
    },
    {
     "data": {
      "image/png": "[encoded data removed]",
      "text/plain": [
       "<Figure size 432x288 with 1 Axes>"
      ]
     },
     "metadata": {
      "needs_background": "light"
     },
     "output_type": "display_data"
    }
   ],
   "source": [
    "DT_accuracy = pd.DataFrame(columns = ['gini_test', 'entropy_test','gini_train', 'entropy_train'])\n",
    "\n",
    "for d in range(2,15): # for maximum depth\n",
    "    modelDT_g = DecisionTreeClassifier(criterion='gini', max_depth=d) #default is also gini\n",
    "    modelDT_g.fit(scaled_train, y_train)\n",
    "    y_test_pred_DT_g = modelDT_g.predict(scaled_test)\n",
    "    y_train_pred_DT_g = modelDT_g.predict(scaled_train)\n",
    "    modelDT_e = DecisionTreeClassifier(criterion='entropy', max_depth=d)\n",
    "    modelDT_e.fit(scaled_train, y_train)\n",
    "    y_test_pred_DT_e = modelDT_e.predict(scaled_test)\n",
    "    y_train_pred_DT_e = modelDT_e.predict(scaled_train)\n",
    "    DT_accuracy.loc[d] = (metrics.accuracy_score(y_test_pred_DT_g, y_test), metrics.accuracy_score(y_test_pred_DT_e, y_test), metrics.accuracy_score(y_train_pred_DT_g, y_train), metrics.accuracy_score(y_train_pred_DT_e, y_train))\n",
    "print(DT_accuracy)\n",
    "DT_accuracy.plot()\n",
    "plt.title('Accuracy of tuned decision tree models for the test and training datasets', c='r')"
   ]
  },
  {
   "cell_type": "markdown",
   "id": "3504438b",
   "metadata": {},
   "source": [
    "**Performance of Decision Tree**\n",
    "\n",
    "In this case, we fit Decision Tree models with different parameters by using the training dataset. \n",
    "\n",
    "\n",
    "Then, we apply these models to the unseen observations in the test and training datasets and obtain the above accuracy results. \n",
    "The accuracy values are computed as the percentage of correctly classified test and training observations. \n",
    "\n",
    "\n",
    "Decision Tree logic tries to classify data based on Information Gain to obtain a classification as pure as possible.\n",
    "\n",
    "One splitting criterion is based on a purity measure called the Entropy. Entropy is a measure of uncertainty associated with a random number. Higher entropy means higher uncertainty and lower entropy means lower entropy. Information Gain measures the expected reduction in the Entropy of the target variable y by knowing the input feature x. Gini index is another purity measure. \n",
    "\n",
    "The best model is obtained by using the Entropy as criterion and 7 as the number of maximum tree depth. This model has a accuracy of 100% for both the test set and the training dataset. \n",
    "\n",
    "For all trials, the accuracy of the training and the test dataset close to each other so there is no indication of overfitting or oversimplification. "
   ]
  },
  {
   "cell_type": "code",
   "execution_count": 18,
   "id": "074e3c69",
   "metadata": {},
   "outputs": [
    {
     "data": {
      "image/svg+xml": "<?xml version=\"1.0\" encoding=\"UTF-8\" standalone=\"no\"?>\n<!DOCTYPE svg PUBLIC \"-//W3C//DTD SVG 1.1//EN\"\n \"http://www.w3.org/Graphics/SVG/1.1/DTD/svg11.dtd\">\n<!-- Generated by graphviz version 2.40.1 (20161225.0304)\n -->\n<!-- Title: Tree Pages: 1 -->\n<svg width=\"1424pt\" height=\"909pt\"\n viewBox=\"0.00 0.00 1424.00 909.00\" xmlns=\"http://www.w3.org/2000/svg\" xmlns:xlink=\"http://www.w3.org/1999/xlink\">\n<g id=\"graph0\" class=\"graph\" transform=\"scale(1 1) rotate(0) translate(4 905)\">\n<title>Tree</title>\n<polygon fill=\"#ffffff\" stroke=\"transparent\" points=\"-4,4 -4,-905 1420,-905 1420,4 -4,4\"/>\n<!-- 0 -->\n<g id=\"node1\" class=\"node\">\n<title>0</title>\n<polygon fill=\"#fefeff\" stroke=\"#000000\" points=\"596,-901 343,-901 343,-818 596,-818 596,-901\"/>\n<text text-anchor=\"middle\" x=\"469.5\" y=\"-885.8\" font-family=\"Helvetica,sans-Serif\" font-size=\"14.00\" fill=\"#000000\">x0 &lt;= &#45;0.007</text>\n<text text-anchor=\"middle\" x=\"469.5\" y=\"-870.8\" font-family=\"Helvetica,sans-Serif\" font-size=\"14.00\" fill=\"#000000\">entropy = 2.578</text>\n<text text-anchor=\"middle\" x=\"469.5\" y=\"-855.8\" font-family=\"Helvetica,sans-Serif\" font-size=\"14.00\" fill=\"#000000\">samples = 2100</text>\n<text text-anchor=\"middle\" x=\"469.5\" y=\"-840.8\" font-family=\"Helvetica,sans-Serif\" font-size=\"14.00\" fill=\"#000000\">value = [301, 321, 385, 394, 359, 340]</text>\n<text text-anchor=\"middle\" x=\"469.5\" y=\"-825.8\" font-family=\"Helvetica,sans-Serif\" font-size=\"14.00\" fill=\"#000000\">class = 3</text>\n</g>\n<!-- 1 -->\n<g id=\"node2\" class=\"node\">\n<title>1</title>\n<polygon fill=\"#f6fafe\" stroke=\"#000000\" points=\"460.5,-782 254.5,-782 254.5,-699 460.5,-699 460.5,-782\"/>\n<text text-anchor=\"middle\" x=\"357.5\" y=\"-766.8\" font-family=\"Helvetica,sans-Serif\" font-size=\"14.00\" fill=\"#000000\">x0 &lt;= &#45;0.93</text>\n<text text-anchor=\"middle\" x=\"357.5\" y=\"-751.8\" font-family=\"Helvetica,sans-Serif\" font-size=\"14.00\" fill=\"#000000\">entropy = 1.582</text>\n<text text-anchor=\"middle\" x=\"357.5\" y=\"-736.8\" font-family=\"Helvetica,sans-Serif\" font-size=\"14.00\" fill=\"#000000\">samples = 1093</text>\n<text text-anchor=\"middle\" x=\"357.5\" y=\"-721.8\" font-family=\"Helvetica,sans-Serif\" font-size=\"14.00\" fill=\"#000000\">value = [0, 0, 0, 394, 359, 340]</text>\n<text text-anchor=\"middle\" x=\"357.5\" y=\"-706.8\" font-family=\"Helvetica,sans-Serif\" font-size=\"14.00\" fill=\"#000000\">class = 3</text>\n</g>\n<!-- 0&#45;&gt;1 -->\n<g id=\"edge1\" class=\"edge\">\n<title>0&#45;&gt;1</title>\n<path fill=\"none\" stroke=\"#000000\" d=\"M430.3278,-817.8796C421.7665,-808.7832 412.6268,-799.0722 403.8168,-789.7116\"/>\n<polygon fill=\"#000000\" stroke=\"#000000\" points=\"406.2417,-787.1813 396.8394,-782.2981 401.1443,-791.9789 406.2417,-787.1813\"/>\n<text text-anchor=\"middle\" x=\"396.0821\" y=\"-803.5866\" font-family=\"Helvetica,sans-Serif\" font-size=\"14.00\" fill=\"#000000\">True</text>\n</g>\n<!-- 18 -->\n<g id=\"node19\" class=\"node\">\n<title>18</title>\n<polygon fill=\"#edfdf3\" stroke=\"#000000\" points=\"684.5,-782 478.5,-782 478.5,-699 684.5,-699 684.5,-782\"/>\n<text text-anchor=\"middle\" x=\"581.5\" y=\"-766.8\" font-family=\"Helvetica,sans-Serif\" font-size=\"14.00\" fill=\"#000000\">x1 &lt;= 0.078</text>\n<text text-anchor=\"middle\" x=\"581.5\" y=\"-751.8\" font-family=\"Helvetica,sans-Serif\" font-size=\"14.00\" fill=\"#000000\">entropy = 1.577</text>\n<text text-anchor=\"middle\" x=\"581.5\" y=\"-736.8\" font-family=\"Helvetica,sans-Serif\" font-size=\"14.00\" fill=\"#000000\">samples = 1007</text>\n<text text-anchor=\"middle\" x=\"581.5\" y=\"-721.8\" font-family=\"Helvetica,sans-Serif\" font-size=\"14.00\" fill=\"#000000\">value = [301, 321, 385, 0, 0, 0]</text>\n<text text-anchor=\"middle\" x=\"581.5\" y=\"-706.8\" font-family=\"Helvetica,sans-Serif\" font-size=\"14.00\" fill=\"#000000\">class = 2</text>\n</g>\n<!-- 0&#45;&gt;18 -->\n<g id=\"edge18\" class=\"edge\">\n<title>0&#45;&gt;18</title>\n<path fill=\"none\" stroke=\"#000000\" d=\"M508.6722,-817.8796C517.2335,-808.7832 526.3732,-799.0722 535.1832,-789.7116\"/>\n<polygon fill=\"#000000\" stroke=\"#000000\" points=\"537.8557,-791.9789 542.1606,-782.2981 532.7583,-787.1813 537.8557,-791.9789\"/>\n<text text-anchor=\"middle\" x=\"542.9179\" y=\"-803.5866\" font-family=\"Helvetica,sans-Serif\" font-size=\"14.00\" fill=\"#000000\">False</text>\n</g>\n<!-- 2 -->\n<g id=\"node3\" class=\"node\">\n<title>2</title>\n<polygon fill=\"#399de5\" stroke=\"#000000\" points=\"248,-655.5 73,-655.5 73,-587.5 248,-587.5 248,-655.5\"/>\n<text text-anchor=\"middle\" x=\"160.5\" y=\"-640.3\" font-family=\"Helvetica,sans-Serif\" font-size=\"14.00\" fill=\"#000000\">entropy = 0.0</text>\n<text text-anchor=\"middle\" x=\"160.5\" y=\"-625.3\" font-family=\"Helvetica,sans-Serif\" font-size=\"14.00\" fill=\"#000000\">samples = 394</text>\n<text text-anchor=\"middle\" x=\"160.5\" y=\"-610.3\" font-family=\"Helvetica,sans-Serif\" font-size=\"14.00\" fill=\"#000000\">value = [0, 0, 0, 394, 0, 0]</text>\n<text text-anchor=\"middle\" x=\"160.5\" y=\"-595.3\" font-family=\"Helvetica,sans-Serif\" font-size=\"14.00\" fill=\"#000000\">class = 3</text>\n</g>\n<!-- 1&#45;&gt;2 -->\n<g id=\"edge2\" class=\"edge\">\n<title>1&#45;&gt;2</title>\n<path fill=\"none\" stroke=\"#000000\" d=\"M288.599,-698.8796C268.2053,-686.5606 245.9455,-673.1143 225.7875,-660.9376\"/>\n<polygon fill=\"#000000\" stroke=\"#000000\" points=\"227.3587,-657.7977 216.9894,-655.623 223.7393,-663.7894 227.3587,-657.7977\"/>\n</g>\n<!-- 3 -->\n<g id=\"node4\" class=\"node\">\n<title>3</title>\n<polygon fill=\"#f8f5fe\" stroke=\"#000000\" points=\"456.5,-663 266.5,-663 266.5,-580 456.5,-580 456.5,-663\"/>\n<text text-anchor=\"middle\" x=\"361.5\" y=\"-647.8\" font-family=\"Helvetica,sans-Serif\" font-size=\"14.00\" fill=\"#000000\">x1 &lt;= &#45;0.408</text>\n<text text-anchor=\"middle\" x=\"361.5\" y=\"-632.8\" font-family=\"Helvetica,sans-Serif\" font-size=\"14.00\" fill=\"#000000\">entropy = 0.999</text>\n<text text-anchor=\"middle\" x=\"361.5\" y=\"-617.8\" font-family=\"Helvetica,sans-Serif\" font-size=\"14.00\" fill=\"#000000\">samples = 699</text>\n<text text-anchor=\"middle\" x=\"361.5\" y=\"-602.8\" font-family=\"Helvetica,sans-Serif\" font-size=\"14.00\" fill=\"#000000\">value = [0, 0, 0, 0, 359, 340]</text>\n<text text-anchor=\"middle\" x=\"361.5\" y=\"-587.8\" font-family=\"Helvetica,sans-Serif\" font-size=\"14.00\" fill=\"#000000\">class = 4</text>\n</g>\n<!-- 1&#45;&gt;3 -->\n<g id=\"edge3\" class=\"edge\">\n<title>1&#45;&gt;3</title>\n<path fill=\"none\" stroke=\"#000000\" d=\"M358.899,-698.8796C359.1745,-690.6838 359.4668,-681.9891 359.7521,-673.5013\"/>\n<polygon fill=\"#000000\" stroke=\"#000000\" points=\"363.257,-673.41 360.095,-663.2981 356.261,-673.1748 363.257,-673.41\"/>\n</g>\n<!-- 4 -->\n<g id=\"node5\" class=\"node\">\n<title>4</title>\n<polygon fill=\"#8139e5\" stroke=\"#000000\" points=\"442,-536.5 267,-536.5 267,-468.5 442,-468.5 442,-536.5\"/>\n<text text-anchor=\"middle\" x=\"354.5\" y=\"-521.3\" font-family=\"Helvetica,sans-Serif\" font-size=\"14.00\" fill=\"#000000\">entropy = 0.0</text>\n<text text-anchor=\"middle\" x=\"354.5\" y=\"-506.3\" font-family=\"Helvetica,sans-Serif\" font-size=\"14.00\" fill=\"#000000\">samples = 157</text>\n<text text-anchor=\"middle\" x=\"354.5\" y=\"-491.3\" font-family=\"Helvetica,sans-Serif\" font-size=\"14.00\" fill=\"#000000\">value = [0, 0, 0, 0, 157, 0]</text>\n<text text-anchor=\"middle\" x=\"354.5\" y=\"-476.3\" font-family=\"Helvetica,sans-Serif\" font-size=\"14.00\" fill=\"#000000\">class = 4</text>\n</g>\n<!-- 3&#45;&gt;4 -->\n<g id=\"edge4\" class=\"edge\">\n<title>3&#45;&gt;4</title>\n<path fill=\"none\" stroke=\"#000000\" d=\"M359.0517,-579.8796C358.4243,-569.2134 357.7472,-557.7021 357.1119,-546.9015\"/>\n<polygon fill=\"#000000\" stroke=\"#000000\" points=\"360.5998,-546.5921 356.5185,-536.8149 353.6119,-547.0032 360.5998,-546.5921\"/>\n</g>\n<!-- 5 -->\n<g id=\"node6\" class=\"node\">\n<title>5</title>\n<polygon fill=\"#f4afd7\" stroke=\"#000000\" points=\"650.5,-544 460.5,-544 460.5,-461 650.5,-461 650.5,-544\"/>\n<text text-anchor=\"middle\" x=\"555.5\" y=\"-528.8\" font-family=\"Helvetica,sans-Serif\" font-size=\"14.00\" fill=\"#000000\">x1 &lt;= &#45;0.232</text>\n<text text-anchor=\"middle\" x=\"555.5\" y=\"-513.8\" font-family=\"Helvetica,sans-Serif\" font-size=\"14.00\" fill=\"#000000\">entropy = 0.953</text>\n<text text-anchor=\"middle\" x=\"555.5\" y=\"-498.8\" font-family=\"Helvetica,sans-Serif\" font-size=\"14.00\" fill=\"#000000\">samples = 542</text>\n<text text-anchor=\"middle\" x=\"555.5\" y=\"-483.8\" font-family=\"Helvetica,sans-Serif\" font-size=\"14.00\" fill=\"#000000\">value = [0, 0, 0, 0, 202, 340]</text>\n<text text-anchor=\"middle\" x=\"555.5\" y=\"-468.8\" font-family=\"Helvetica,sans-Serif\" font-size=\"14.00\" fill=\"#000000\">class = 5</text>\n</g>\n<!-- 3&#45;&gt;5 -->\n<g id=\"edge5\" class=\"edge\">\n<title>3&#45;&gt;5</title>\n<path fill=\"none\" stroke=\"#000000\" d=\"M429.3518,-579.8796C445.3011,-570.0962 462.4096,-559.6019 478.7198,-549.5971\"/>\n<polygon fill=\"#000000\" stroke=\"#000000\" points=\"480.9925,-552.3091 487.6865,-544.0969 477.3323,-546.3422 480.9925,-552.3091\"/>\n</g>\n<!-- 6 -->\n<g id=\"node7\" class=\"node\">\n<title>6</title>\n<polygon fill=\"#e959ad\" stroke=\"#000000\" points=\"459,-425 276,-425 276,-342 459,-342 459,-425\"/>\n<text text-anchor=\"middle\" x=\"367.5\" y=\"-409.8\" font-family=\"Helvetica,sans-Serif\" font-size=\"14.00\" fill=\"#000000\">x0 &lt;= &#45;0.287</text>\n<text text-anchor=\"middle\" x=\"367.5\" y=\"-394.8\" font-family=\"Helvetica,sans-Serif\" font-size=\"14.00\" fill=\"#000000\">entropy = 0.581</text>\n<text text-anchor=\"middle\" x=\"367.5\" y=\"-379.8\" font-family=\"Helvetica,sans-Serif\" font-size=\"14.00\" fill=\"#000000\">samples = 389</text>\n<text text-anchor=\"middle\" x=\"367.5\" y=\"-364.8\" font-family=\"Helvetica,sans-Serif\" font-size=\"14.00\" fill=\"#000000\">value = [0, 0, 0, 0, 54, 335]</text>\n<text text-anchor=\"middle\" x=\"367.5\" y=\"-349.8\" font-family=\"Helvetica,sans-Serif\" font-size=\"14.00\" fill=\"#000000\">class = 5</text>\n</g>\n<!-- 5&#45;&gt;6 -->\n<g id=\"edge6\" class=\"edge\">\n<title>5&#45;&gt;6</title>\n<path fill=\"none\" stroke=\"#000000\" d=\"M489.7467,-460.8796C474.2906,-451.0962 457.7113,-440.6019 441.9055,-430.5971\"/>\n<polygon fill=\"#000000\" stroke=\"#000000\" points=\"443.5377,-427.488 433.2162,-425.0969 439.7938,-433.4027 443.5377,-427.488\"/>\n</g>\n<!-- 11 -->\n<g id=\"node12\" class=\"node\">\n<title>11</title>\n<polygon fill=\"#8540e6\" stroke=\"#000000\" points=\"652,-425 477,-425 477,-342 652,-342 652,-425\"/>\n<text text-anchor=\"middle\" x=\"564.5\" y=\"-409.8\" font-family=\"Helvetica,sans-Serif\" font-size=\"14.00\" fill=\"#000000\">x1 &lt;= &#45;0.195</text>\n<text text-anchor=\"middle\" x=\"564.5\" y=\"-394.8\" font-family=\"Helvetica,sans-Serif\" font-size=\"14.00\" fill=\"#000000\">entropy = 0.208</text>\n<text text-anchor=\"middle\" x=\"564.5\" y=\"-379.8\" font-family=\"Helvetica,sans-Serif\" font-size=\"14.00\" fill=\"#000000\">samples = 153</text>\n<text text-anchor=\"middle\" x=\"564.5\" y=\"-364.8\" font-family=\"Helvetica,sans-Serif\" font-size=\"14.00\" fill=\"#000000\">value = [0, 0, 0, 0, 148, 5]</text>\n<text text-anchor=\"middle\" x=\"564.5\" y=\"-349.8\" font-family=\"Helvetica,sans-Serif\" font-size=\"14.00\" fill=\"#000000\">class = 4</text>\n</g>\n<!-- 5&#45;&gt;11 -->\n<g id=\"edge11\" class=\"edge\">\n<title>5&#45;&gt;11</title>\n<path fill=\"none\" stroke=\"#000000\" d=\"M558.6478,-460.8796C559.2676,-452.6838 559.9252,-443.9891 560.5671,-435.5013\"/>\n<polygon fill=\"#000000\" stroke=\"#000000\" points=\"564.0746,-435.5336 561.3388,-425.2981 557.0945,-435.0056 564.0746,-435.5336\"/>\n</g>\n<!-- 7 -->\n<g id=\"node8\" class=\"node\">\n<title>7</title>\n<polygon fill=\"#e748a4\" stroke=\"#000000\" points=\"269,-306 86,-306 86,-223 269,-223 269,-306\"/>\n<text text-anchor=\"middle\" x=\"177.5\" y=\"-290.8\" font-family=\"Helvetica,sans-Serif\" font-size=\"14.00\" fill=\"#000000\">x0 &lt;= &#45;0.646</text>\n<text text-anchor=\"middle\" x=\"177.5\" y=\"-275.8\" font-family=\"Helvetica,sans-Serif\" font-size=\"14.00\" fill=\"#000000\">entropy = 0.364</text>\n<text text-anchor=\"middle\" x=\"177.5\" y=\"-260.8\" font-family=\"Helvetica,sans-Serif\" font-size=\"14.00\" fill=\"#000000\">samples = 360</text>\n<text text-anchor=\"middle\" x=\"177.5\" y=\"-245.8\" font-family=\"Helvetica,sans-Serif\" font-size=\"14.00\" fill=\"#000000\">value = [0, 0, 0, 0, 25, 335]</text>\n<text text-anchor=\"middle\" x=\"177.5\" y=\"-230.8\" font-family=\"Helvetica,sans-Serif\" font-size=\"14.00\" fill=\"#000000\">class = 5</text>\n</g>\n<!-- 6&#45;&gt;7 -->\n<g id=\"edge7\" class=\"edge\">\n<title>6&#45;&gt;7</title>\n<path fill=\"none\" stroke=\"#000000\" d=\"M301.0472,-341.8796C285.4267,-332.0962 268.671,-321.6019 252.6971,-311.5971\"/>\n<polygon fill=\"#000000\" stroke=\"#000000\" points=\"254.2481,-308.4387 243.9153,-306.0969 250.5324,-314.3712 254.2481,-308.4387\"/>\n</g>\n<!-- 10 -->\n<g id=\"node11\" class=\"node\">\n<title>10</title>\n<polygon fill=\"#8139e5\" stroke=\"#000000\" points=\"454,-298.5 287,-298.5 287,-230.5 454,-230.5 454,-298.5\"/>\n<text text-anchor=\"middle\" x=\"370.5\" y=\"-283.3\" font-family=\"Helvetica,sans-Serif\" font-size=\"14.00\" fill=\"#000000\">entropy = 0.0</text>\n<text text-anchor=\"middle\" x=\"370.5\" y=\"-268.3\" font-family=\"Helvetica,sans-Serif\" font-size=\"14.00\" fill=\"#000000\">samples = 29</text>\n<text text-anchor=\"middle\" x=\"370.5\" y=\"-253.3\" font-family=\"Helvetica,sans-Serif\" font-size=\"14.00\" fill=\"#000000\">value = [0, 0, 0, 0, 29, 0]</text>\n<text text-anchor=\"middle\" x=\"370.5\" y=\"-238.3\" font-family=\"Helvetica,sans-Serif\" font-size=\"14.00\" fill=\"#000000\">class = 4</text>\n</g>\n<!-- 6&#45;&gt;10 -->\n<g id=\"edge10\" class=\"edge\">\n<title>6&#45;&gt;10</title>\n<path fill=\"none\" stroke=\"#000000\" d=\"M368.5493,-341.8796C368.8182,-331.2134 369.1084,-319.7021 369.3806,-308.9015\"/>\n<polygon fill=\"#000000\" stroke=\"#000000\" points=\"372.8817,-308.9 369.6349,-298.8149 365.8839,-308.7235 372.8817,-308.9\"/>\n</g>\n<!-- 8 -->\n<g id=\"node9\" class=\"node\">\n<title>8</title>\n<polygon fill=\"#8139e5\" stroke=\"#000000\" points=\"167,-179.5 0,-179.5 0,-111.5 167,-111.5 167,-179.5\"/>\n<text text-anchor=\"middle\" x=\"83.5\" y=\"-164.3\" font-family=\"Helvetica,sans-Serif\" font-size=\"14.00\" fill=\"#000000\">entropy = 0.0</text>\n<text text-anchor=\"middle\" x=\"83.5\" y=\"-149.3\" font-family=\"Helvetica,sans-Serif\" font-size=\"14.00\" fill=\"#000000\">samples = 25</text>\n<text text-anchor=\"middle\" x=\"83.5\" y=\"-134.3\" font-family=\"Helvetica,sans-Serif\" font-size=\"14.00\" fill=\"#000000\">value = [0, 0, 0, 0, 25, 0]</text>\n<text text-anchor=\"middle\" x=\"83.5\" y=\"-119.3\" font-family=\"Helvetica,sans-Serif\" font-size=\"14.00\" fill=\"#000000\">class = 4</text>\n</g>\n<!-- 7&#45;&gt;8 -->\n<g id=\"edge8\" class=\"edge\">\n<title>7&#45;&gt;8</title>\n<path fill=\"none\" stroke=\"#000000\" d=\"M144.6234,-222.8796C135.6768,-211.5536 125.9776,-199.2748 116.9971,-187.9058\"/>\n<polygon fill=\"#000000\" stroke=\"#000000\" points=\"119.551,-185.4926 110.6059,-179.8149 114.058,-189.8316 119.551,-185.4926\"/>\n</g>\n<!-- 9 -->\n<g id=\"node10\" class=\"node\">\n<title>9</title>\n<polygon fill=\"#e5399d\" stroke=\"#000000\" points=\"360,-179.5 185,-179.5 185,-111.5 360,-111.5 360,-179.5\"/>\n<text text-anchor=\"middle\" x=\"272.5\" y=\"-164.3\" font-family=\"Helvetica,sans-Serif\" font-size=\"14.00\" fill=\"#000000\">entropy = 0.0</text>\n<text text-anchor=\"middle\" x=\"272.5\" y=\"-149.3\" font-family=\"Helvetica,sans-Serif\" font-size=\"14.00\" fill=\"#000000\">samples = 335</text>\n<text text-anchor=\"middle\" x=\"272.5\" y=\"-134.3\" font-family=\"Helvetica,sans-Serif\" font-size=\"14.00\" fill=\"#000000\">value = [0, 0, 0, 0, 0, 335]</text>\n<text text-anchor=\"middle\" x=\"272.5\" y=\"-119.3\" font-family=\"Helvetica,sans-Serif\" font-size=\"14.00\" fill=\"#000000\">class = 5</text>\n</g>\n<!-- 7&#45;&gt;9 -->\n<g id=\"edge9\" class=\"edge\">\n<title>7&#45;&gt;9</title>\n<path fill=\"none\" stroke=\"#000000\" d=\"M210.7264,-222.8796C219.7681,-211.5536 229.5705,-199.2748 238.6466,-187.9058\"/>\n<polygon fill=\"#000000\" stroke=\"#000000\" points=\"241.602,-189.8137 245.1057,-179.8149 236.1315,-185.4464 241.602,-189.8137\"/>\n</g>\n<!-- 12 -->\n<g id=\"node13\" class=\"node\">\n<title>12</title>\n<polygon fill=\"#ae80ee\" stroke=\"#000000\" points=\"645,-306 478,-306 478,-223 645,-223 645,-306\"/>\n<text text-anchor=\"middle\" x=\"561.5\" y=\"-290.8\" font-family=\"Helvetica,sans-Serif\" font-size=\"14.00\" fill=\"#000000\">x0 &lt;= &#45;0.623</text>\n<text text-anchor=\"middle\" x=\"561.5\" y=\"-275.8\" font-family=\"Helvetica,sans-Serif\" font-size=\"14.00\" fill=\"#000000\">entropy = 0.831</text>\n<text text-anchor=\"middle\" x=\"561.5\" y=\"-260.8\" font-family=\"Helvetica,sans-Serif\" font-size=\"14.00\" fill=\"#000000\">samples = 19</text>\n<text text-anchor=\"middle\" x=\"561.5\" y=\"-245.8\" font-family=\"Helvetica,sans-Serif\" font-size=\"14.00\" fill=\"#000000\">value = [0, 0, 0, 0, 14, 5]</text>\n<text text-anchor=\"middle\" x=\"561.5\" y=\"-230.8\" font-family=\"Helvetica,sans-Serif\" font-size=\"14.00\" fill=\"#000000\">class = 4</text>\n</g>\n<!-- 11&#45;&gt;12 -->\n<g id=\"edge12\" class=\"edge\">\n<title>11&#45;&gt;12</title>\n<path fill=\"none\" stroke=\"#000000\" d=\"M563.4507,-341.8796C563.2441,-333.6838 563.0249,-324.9891 562.811,-316.5013\"/>\n<polygon fill=\"#000000\" stroke=\"#000000\" points=\"566.3047,-316.2067 562.5537,-306.2981 559.307,-316.3831 566.3047,-316.2067\"/>\n</g>\n<!-- 17 -->\n<g id=\"node18\" class=\"node\">\n<title>17</title>\n<polygon fill=\"#8139e5\" stroke=\"#000000\" points=\"838,-298.5 663,-298.5 663,-230.5 838,-230.5 838,-298.5\"/>\n<text text-anchor=\"middle\" x=\"750.5\" y=\"-283.3\" font-family=\"Helvetica,sans-Serif\" font-size=\"14.00\" fill=\"#000000\">entropy = 0.0</text>\n<text text-anchor=\"middle\" x=\"750.5\" y=\"-268.3\" font-family=\"Helvetica,sans-Serif\" font-size=\"14.00\" fill=\"#000000\">samples = 134</text>\n<text text-anchor=\"middle\" x=\"750.5\" y=\"-253.3\" font-family=\"Helvetica,sans-Serif\" font-size=\"14.00\" fill=\"#000000\">value = [0, 0, 0, 0, 134, 0]</text>\n<text text-anchor=\"middle\" x=\"750.5\" y=\"-238.3\" font-family=\"Helvetica,sans-Serif\" font-size=\"14.00\" fill=\"#000000\">class = 4</text>\n</g>\n<!-- 11&#45;&gt;17 -->\n<g id=\"edge17\" class=\"edge\">\n<title>11&#45;&gt;17</title>\n<path fill=\"none\" stroke=\"#000000\" d=\"M629.5538,-341.8796C648.7224,-329.6158 669.6371,-316.2348 688.6018,-304.1015\"/>\n<polygon fill=\"#000000\" stroke=\"#000000\" points=\"690.6275,-306.9606 697.1648,-298.623 686.855,-301.0641 690.6275,-306.9606\"/>\n</g>\n<!-- 13 -->\n<g id=\"node14\" class=\"node\">\n<title>13</title>\n<polygon fill=\"#8139e5\" stroke=\"#000000\" points=\"592,-179.5 433,-179.5 433,-111.5 592,-111.5 592,-179.5\"/>\n<text text-anchor=\"middle\" x=\"512.5\" y=\"-164.3\" font-family=\"Helvetica,sans-Serif\" font-size=\"14.00\" fill=\"#000000\">entropy = 0.0</text>\n<text text-anchor=\"middle\" x=\"512.5\" y=\"-149.3\" font-family=\"Helvetica,sans-Serif\" font-size=\"14.00\" fill=\"#000000\">samples = 9</text>\n<text text-anchor=\"middle\" x=\"512.5\" y=\"-134.3\" font-family=\"Helvetica,sans-Serif\" font-size=\"14.00\" fill=\"#000000\">value = [0, 0, 0, 0, 9, 0]</text>\n<text text-anchor=\"middle\" x=\"512.5\" y=\"-119.3\" font-family=\"Helvetica,sans-Serif\" font-size=\"14.00\" fill=\"#000000\">class = 4</text>\n</g>\n<!-- 12&#45;&gt;13 -->\n<g id=\"edge13\" class=\"edge\">\n<title>12&#45;&gt;13</title>\n<path fill=\"none\" stroke=\"#000000\" d=\"M544.3622,-222.8796C539.8797,-211.9935 535.0347,-200.227 530.5083,-189.2344\"/>\n<polygon fill=\"#000000\" stroke=\"#000000\" points=\"533.6736,-187.7291 526.6297,-179.8149 527.2009,-190.3944 533.6736,-187.7291\"/>\n</g>\n<!-- 14 -->\n<g id=\"node15\" class=\"node\">\n<title>14</title>\n<polygon fill=\"#ffffff\" stroke=\"#000000\" points=\"769,-187 610,-187 610,-104 769,-104 769,-187\"/>\n<text text-anchor=\"middle\" x=\"689.5\" y=\"-171.8\" font-family=\"Helvetica,sans-Serif\" font-size=\"14.00\" fill=\"#000000\">x0 &lt;= &#45;0.317</text>\n<text text-anchor=\"middle\" x=\"689.5\" y=\"-156.8\" font-family=\"Helvetica,sans-Serif\" font-size=\"14.00\" fill=\"#000000\">entropy = 1.0</text>\n<text text-anchor=\"middle\" x=\"689.5\" y=\"-141.8\" font-family=\"Helvetica,sans-Serif\" font-size=\"14.00\" fill=\"#000000\">samples = 10</text>\n<text text-anchor=\"middle\" x=\"689.5\" y=\"-126.8\" font-family=\"Helvetica,sans-Serif\" font-size=\"14.00\" fill=\"#000000\">value = [0, 0, 0, 0, 5, 5]</text>\n<text text-anchor=\"middle\" x=\"689.5\" y=\"-111.8\" font-family=\"Helvetica,sans-Serif\" font-size=\"14.00\" fill=\"#000000\">class = 4</text>\n</g>\n<!-- 12&#45;&gt;14 -->\n<g id=\"edge14\" class=\"edge\">\n<title>12&#45;&gt;14</title>\n<path fill=\"none\" stroke=\"#000000\" d=\"M606.2682,-222.8796C616.2463,-213.6031 626.9119,-203.6874 637.1642,-194.1559\"/>\n<polygon fill=\"#000000\" stroke=\"#000000\" points=\"639.6,-196.6704 644.5407,-187.2981 634.8337,-191.5436 639.6,-196.6704\"/>\n</g>\n<!-- 15 -->\n<g id=\"node16\" class=\"node\">\n<title>15</title>\n<polygon fill=\"#e5399d\" stroke=\"#000000\" points=\"680,-68 521,-68 521,0 680,0 680,-68\"/>\n<text text-anchor=\"middle\" x=\"600.5\" y=\"-52.8\" font-family=\"Helvetica,sans-Serif\" font-size=\"14.00\" fill=\"#000000\">entropy = 0.0</text>\n<text text-anchor=\"middle\" x=\"600.5\" y=\"-37.8\" font-family=\"Helvetica,sans-Serif\" font-size=\"14.00\" fill=\"#000000\">samples = 5</text>\n<text text-anchor=\"middle\" x=\"600.5\" y=\"-22.8\" font-family=\"Helvetica,sans-Serif\" font-size=\"14.00\" fill=\"#000000\">value = [0, 0, 0, 0, 0, 5]</text>\n<text text-anchor=\"middle\" x=\"600.5\" y=\"-7.8\" font-family=\"Helvetica,sans-Serif\" font-size=\"14.00\" fill=\"#000000\">class = 5</text>\n</g>\n<!-- 14&#45;&gt;15 -->\n<g id=\"edge15\" class=\"edge\">\n<title>14&#45;&gt;15</title>\n<path fill=\"none\" stroke=\"#000000\" d=\"M656.3597,-103.9815C649.097,-94.8828 641.4017,-85.242 634.1204,-76.1199\"/>\n<polygon fill=\"#000000\" stroke=\"#000000\" points=\"636.8234,-73.8958 627.8495,-68.2637 631.3525,-78.2627 636.8234,-73.8958\"/>\n</g>\n<!-- 16 -->\n<g id=\"node17\" class=\"node\">\n<title>16</title>\n<polygon fill=\"#8139e5\" stroke=\"#000000\" points=\"857,-68 698,-68 698,0 857,0 857,-68\"/>\n<text text-anchor=\"middle\" x=\"777.5\" y=\"-52.8\" font-family=\"Helvetica,sans-Serif\" font-size=\"14.00\" fill=\"#000000\">entropy = 0.0</text>\n<text text-anchor=\"middle\" x=\"777.5\" y=\"-37.8\" font-family=\"Helvetica,sans-Serif\" font-size=\"14.00\" fill=\"#000000\">samples = 5</text>\n<text text-anchor=\"middle\" x=\"777.5\" y=\"-22.8\" font-family=\"Helvetica,sans-Serif\" font-size=\"14.00\" fill=\"#000000\">value = [0, 0, 0, 0, 5, 0]</text>\n<text text-anchor=\"middle\" x=\"777.5\" y=\"-7.8\" font-family=\"Helvetica,sans-Serif\" font-size=\"14.00\" fill=\"#000000\">class = 4</text>\n</g>\n<!-- 14&#45;&gt;16 -->\n<g id=\"edge16\" class=\"edge\">\n<title>14&#45;&gt;16</title>\n<path fill=\"none\" stroke=\"#000000\" d=\"M722.268,-103.9815C729.449,-94.8828 737.0579,-85.242 744.2574,-76.1199\"/>\n<polygon fill=\"#000000\" stroke=\"#000000\" points=\"747.0099,-78.2818 750.4578,-68.2637 741.5151,-73.9451 747.0099,-78.2818\"/>\n</g>\n<!-- 19 -->\n<g id=\"node20\" class=\"node\">\n<title>19</title>\n<polygon fill=\"#39e581\" stroke=\"#000000\" points=\"662,-655.5 487,-655.5 487,-587.5 662,-587.5 662,-655.5\"/>\n<text text-anchor=\"middle\" x=\"574.5\" y=\"-640.3\" font-family=\"Helvetica,sans-Serif\" font-size=\"14.00\" fill=\"#000000\">entropy = 0.0</text>\n<text text-anchor=\"middle\" x=\"574.5\" y=\"-625.3\" font-family=\"Helvetica,sans-Serif\" font-size=\"14.00\" fill=\"#000000\">samples = 385</text>\n<text text-anchor=\"middle\" x=\"574.5\" y=\"-610.3\" font-family=\"Helvetica,sans-Serif\" font-size=\"14.00\" fill=\"#000000\">value = [0, 0, 385, 0, 0, 0]</text>\n<text text-anchor=\"middle\" x=\"574.5\" y=\"-595.3\" font-family=\"Helvetica,sans-Serif\" font-size=\"14.00\" fill=\"#000000\">class = 2</text>\n</g>\n<!-- 18&#45;&gt;19 -->\n<g id=\"edge19\" class=\"edge\">\n<title>18&#45;&gt;19</title>\n<path fill=\"none\" stroke=\"#000000\" d=\"M579.0517,-698.8796C578.4243,-688.2134 577.7472,-676.7021 577.1119,-665.9015\"/>\n<polygon fill=\"#000000\" stroke=\"#000000\" points=\"580.5998,-665.5921 576.5185,-655.8149 573.6119,-666.0032 580.5998,-665.5921\"/>\n</g>\n<!-- 20 -->\n<g id=\"node21\" class=\"node\">\n<title>20</title>\n<polygon fill=\"#f9fdf3\" stroke=\"#000000\" points=\"870.5,-663 680.5,-663 680.5,-580 870.5,-580 870.5,-663\"/>\n<text text-anchor=\"middle\" x=\"775.5\" y=\"-647.8\" font-family=\"Helvetica,sans-Serif\" font-size=\"14.00\" fill=\"#000000\">x1 &lt;= 1.661</text>\n<text text-anchor=\"middle\" x=\"775.5\" y=\"-632.8\" font-family=\"Helvetica,sans-Serif\" font-size=\"14.00\" fill=\"#000000\">entropy = 0.999</text>\n<text text-anchor=\"middle\" x=\"775.5\" y=\"-617.8\" font-family=\"Helvetica,sans-Serif\" font-size=\"14.00\" fill=\"#000000\">samples = 622</text>\n<text text-anchor=\"middle\" x=\"775.5\" y=\"-602.8\" font-family=\"Helvetica,sans-Serif\" font-size=\"14.00\" fill=\"#000000\">value = [301, 321, 0, 0, 0, 0]</text>\n<text text-anchor=\"middle\" x=\"775.5\" y=\"-587.8\" font-family=\"Helvetica,sans-Serif\" font-size=\"14.00\" fill=\"#000000\">class = 1</text>\n</g>\n<!-- 18&#45;&gt;20 -->\n<g id=\"edge20\" class=\"edge\">\n<title>18&#45;&gt;20</title>\n<path fill=\"none\" stroke=\"#000000\" d=\"M649.3518,-698.8796C665.3011,-689.0962 682.4096,-678.6019 698.7198,-668.5971\"/>\n<polygon fill=\"#000000\" stroke=\"#000000\" points=\"700.9925,-671.3091 707.6865,-663.0969 697.3323,-665.3422 700.9925,-671.3091\"/>\n</g>\n<!-- 21 -->\n<g id=\"node22\" class=\"node\">\n<title>21</title>\n<polygon fill=\"#beee7b\" stroke=\"#000000\" points=\"866.5,-544 676.5,-544 676.5,-461 866.5,-461 866.5,-544\"/>\n<text text-anchor=\"middle\" x=\"771.5\" y=\"-528.8\" font-family=\"Helvetica,sans-Serif\" font-size=\"14.00\" fill=\"#000000\">x0 &lt;= 0.558</text>\n<text text-anchor=\"middle\" x=\"771.5\" y=\"-513.8\" font-family=\"Helvetica,sans-Serif\" font-size=\"14.00\" fill=\"#000000\">entropy = 0.811</text>\n<text text-anchor=\"middle\" x=\"771.5\" y=\"-498.8\" font-family=\"Helvetica,sans-Serif\" font-size=\"14.00\" fill=\"#000000\">samples = 428</text>\n<text text-anchor=\"middle\" x=\"771.5\" y=\"-483.8\" font-family=\"Helvetica,sans-Serif\" font-size=\"14.00\" fill=\"#000000\">value = [107, 321, 0, 0, 0, 0]</text>\n<text text-anchor=\"middle\" x=\"771.5\" y=\"-468.8\" font-family=\"Helvetica,sans-Serif\" font-size=\"14.00\" fill=\"#000000\">class = 1</text>\n</g>\n<!-- 20&#45;&gt;21 -->\n<g id=\"edge21\" class=\"edge\">\n<title>20&#45;&gt;21</title>\n<path fill=\"none\" stroke=\"#000000\" d=\"M774.101,-579.8796C773.8255,-571.6838 773.5332,-562.9891 773.2479,-554.5013\"/>\n<polygon fill=\"#000000\" stroke=\"#000000\" points=\"776.739,-554.1748 772.905,-544.2981 769.743,-554.41 776.739,-554.1748\"/>\n</g>\n<!-- 30 -->\n<g id=\"node31\" class=\"node\">\n<title>30</title>\n<polygon fill=\"#e58139\" stroke=\"#000000\" points=\"1060,-536.5 885,-536.5 885,-468.5 1060,-468.5 1060,-536.5\"/>\n<text text-anchor=\"middle\" x=\"972.5\" y=\"-521.3\" font-family=\"Helvetica,sans-Serif\" font-size=\"14.00\" fill=\"#000000\">entropy = 0.0</text>\n<text text-anchor=\"middle\" x=\"972.5\" y=\"-506.3\" font-family=\"Helvetica,sans-Serif\" font-size=\"14.00\" fill=\"#000000\">samples = 194</text>\n<text text-anchor=\"middle\" x=\"972.5\" y=\"-491.3\" font-family=\"Helvetica,sans-Serif\" font-size=\"14.00\" fill=\"#000000\">value = [194, 0, 0, 0, 0, 0]</text>\n<text text-anchor=\"middle\" x=\"972.5\" y=\"-476.3\" font-family=\"Helvetica,sans-Serif\" font-size=\"14.00\" fill=\"#000000\">class = 0</text>\n</g>\n<!-- 20&#45;&gt;30 -->\n<g id=\"edge30\" class=\"edge\">\n<title>20&#45;&gt;30</title>\n<path fill=\"none\" stroke=\"#000000\" d=\"M844.401,-579.8796C864.7947,-567.5606 887.0545,-554.1143 907.2125,-541.9376\"/>\n<polygon fill=\"#000000\" stroke=\"#000000\" points=\"909.2607,-544.7894 916.0106,-536.623 905.6413,-538.7977 909.2607,-544.7894\"/>\n</g>\n<!-- 22 -->\n<g id=\"node23\" class=\"node\">\n<title>22</title>\n<polygon fill=\"#e58139\" stroke=\"#000000\" points=\"846,-417.5 679,-417.5 679,-349.5 846,-349.5 846,-417.5\"/>\n<text text-anchor=\"middle\" x=\"762.5\" y=\"-402.3\" font-family=\"Helvetica,sans-Serif\" font-size=\"14.00\" fill=\"#000000\">entropy = 0.0</text>\n<text text-anchor=\"middle\" x=\"762.5\" y=\"-387.3\" font-family=\"Helvetica,sans-Serif\" font-size=\"14.00\" fill=\"#000000\">samples = 57</text>\n<text text-anchor=\"middle\" x=\"762.5\" y=\"-372.3\" font-family=\"Helvetica,sans-Serif\" font-size=\"14.00\" fill=\"#000000\">value = [57, 0, 0, 0, 0, 0]</text>\n<text text-anchor=\"middle\" x=\"762.5\" y=\"-357.3\" font-family=\"Helvetica,sans-Serif\" font-size=\"14.00\" fill=\"#000000\">class = 0</text>\n</g>\n<!-- 21&#45;&gt;22 -->\n<g id=\"edge22\" class=\"edge\">\n<title>21&#45;&gt;22</title>\n<path fill=\"none\" stroke=\"#000000\" d=\"M768.3522,-460.8796C767.5455,-450.2134 766.6749,-438.7021 765.8581,-427.9015\"/>\n<polygon fill=\"#000000\" stroke=\"#000000\" points=\"769.3395,-427.5225 765.0952,-417.8149 762.3595,-428.0504 769.3395,-427.5225\"/>\n</g>\n<!-- 23 -->\n<g id=\"node24\" class=\"node\">\n<title>23</title>\n<polygon fill=\"#ace958\" stroke=\"#000000\" points=\"1047,-425 864,-425 864,-342 1047,-342 1047,-425\"/>\n<text text-anchor=\"middle\" x=\"955.5\" y=\"-409.8\" font-family=\"Helvetica,sans-Serif\" font-size=\"14.00\" fill=\"#000000\">x1 &lt;= 1.206</text>\n<text text-anchor=\"middle\" x=\"955.5\" y=\"-394.8\" font-family=\"Helvetica,sans-Serif\" font-size=\"14.00\" fill=\"#000000\">entropy = 0.57</text>\n<text text-anchor=\"middle\" x=\"955.5\" y=\"-379.8\" font-family=\"Helvetica,sans-Serif\" font-size=\"14.00\" fill=\"#000000\">samples = 371</text>\n<text text-anchor=\"middle\" x=\"955.5\" y=\"-364.8\" font-family=\"Helvetica,sans-Serif\" font-size=\"14.00\" fill=\"#000000\">value = [50, 321, 0, 0, 0, 0]</text>\n<text text-anchor=\"middle\" x=\"955.5\" y=\"-349.8\" font-family=\"Helvetica,sans-Serif\" font-size=\"14.00\" fill=\"#000000\">class = 1</text>\n</g>\n<!-- 21&#45;&gt;23 -->\n<g id=\"edge23\" class=\"edge\">\n<title>21&#45;&gt;23</title>\n<path fill=\"none\" stroke=\"#000000\" d=\"M835.8543,-460.8796C850.9815,-451.0962 867.2081,-440.6019 882.6776,-430.5971\"/>\n<polygon fill=\"#000000\" stroke=\"#000000\" points=\"884.6859,-433.4665 891.1821,-425.0969 880.8844,-427.5887 884.6859,-433.4665\"/>\n</g>\n<!-- 24 -->\n<g id=\"node25\" class=\"node\">\n<title>24</title>\n<polygon fill=\"#9de539\" stroke=\"#000000\" points=\"1037,-298.5 862,-298.5 862,-230.5 1037,-230.5 1037,-298.5\"/>\n<text text-anchor=\"middle\" x=\"949.5\" y=\"-283.3\" font-family=\"Helvetica,sans-Serif\" font-size=\"14.00\" fill=\"#000000\">entropy = 0.0</text>\n<text text-anchor=\"middle\" x=\"949.5\" y=\"-268.3\" font-family=\"Helvetica,sans-Serif\" font-size=\"14.00\" fill=\"#000000\">samples = 205</text>\n<text text-anchor=\"middle\" x=\"949.5\" y=\"-253.3\" font-family=\"Helvetica,sans-Serif\" font-size=\"14.00\" fill=\"#000000\">value = [0, 205, 0, 0, 0, 0]</text>\n<text text-anchor=\"middle\" x=\"949.5\" y=\"-238.3\" font-family=\"Helvetica,sans-Serif\" font-size=\"14.00\" fill=\"#000000\">class = 1</text>\n</g>\n<!-- 23&#45;&gt;24 -->\n<g id=\"edge24\" class=\"edge\">\n<title>23&#45;&gt;24</title>\n<path fill=\"none\" stroke=\"#000000\" d=\"M953.4015,-341.8796C952.8637,-331.2134 952.2833,-319.7021 951.7387,-308.9015\"/>\n<polygon fill=\"#000000\" stroke=\"#000000\" points=\"955.2294,-308.626 951.2302,-298.8149 948.2383,-308.9785 955.2294,-308.626\"/>\n</g>\n<!-- 25 -->\n<g id=\"node26\" class=\"node\">\n<title>25</title>\n<polygon fill=\"#c7f08e\" stroke=\"#000000\" points=\"1238,-306 1055,-306 1055,-223 1238,-223 1238,-306\"/>\n<text text-anchor=\"middle\" x=\"1146.5\" y=\"-290.8\" font-family=\"Helvetica,sans-Serif\" font-size=\"14.00\" fill=\"#000000\">x0 &lt;= 1.157</text>\n<text text-anchor=\"middle\" x=\"1146.5\" y=\"-275.8\" font-family=\"Helvetica,sans-Serif\" font-size=\"14.00\" fill=\"#000000\">entropy = 0.883</text>\n<text text-anchor=\"middle\" x=\"1146.5\" y=\"-260.8\" font-family=\"Helvetica,sans-Serif\" font-size=\"14.00\" fill=\"#000000\">samples = 166</text>\n<text text-anchor=\"middle\" x=\"1146.5\" y=\"-245.8\" font-family=\"Helvetica,sans-Serif\" font-size=\"14.00\" fill=\"#000000\">value = [50, 116, 0, 0, 0, 0]</text>\n<text text-anchor=\"middle\" x=\"1146.5\" y=\"-230.8\" font-family=\"Helvetica,sans-Serif\" font-size=\"14.00\" fill=\"#000000\">class = 1</text>\n</g>\n<!-- 23&#45;&gt;25 -->\n<g id=\"edge25\" class=\"edge\">\n<title>23&#45;&gt;25</title>\n<path fill=\"none\" stroke=\"#000000\" d=\"M1022.3025,-341.8796C1038.0053,-332.0962 1054.8491,-321.6019 1070.9071,-311.5971\"/>\n<polygon fill=\"#000000\" stroke=\"#000000\" points=\"1073.0985,-314.3556 1079.7352,-306.0969 1069.3969,-308.4144 1073.0985,-314.3556\"/>\n</g>\n<!-- 26 -->\n<g id=\"node27\" class=\"node\">\n<title>26</title>\n<polygon fill=\"#9de539\" stroke=\"#000000\" points=\"1135,-179.5 968,-179.5 968,-111.5 1135,-111.5 1135,-179.5\"/>\n<text text-anchor=\"middle\" x=\"1051.5\" y=\"-164.3\" font-family=\"Helvetica,sans-Serif\" font-size=\"14.00\" fill=\"#000000\">entropy = 0.0</text>\n<text text-anchor=\"middle\" x=\"1051.5\" y=\"-149.3\" font-family=\"Helvetica,sans-Serif\" font-size=\"14.00\" fill=\"#000000\">samples = 63</text>\n<text text-anchor=\"middle\" x=\"1051.5\" y=\"-134.3\" font-family=\"Helvetica,sans-Serif\" font-size=\"14.00\" fill=\"#000000\">value = [0, 63, 0, 0, 0, 0]</text>\n<text text-anchor=\"middle\" x=\"1051.5\" y=\"-119.3\" font-family=\"Helvetica,sans-Serif\" font-size=\"14.00\" fill=\"#000000\">class = 1</text>\n</g>\n<!-- 25&#45;&gt;26 -->\n<g id=\"edge26\" class=\"edge\">\n<title>25&#45;&gt;26</title>\n<path fill=\"none\" stroke=\"#000000\" d=\"M1113.2736,-222.8796C1104.2319,-211.5536 1094.4295,-199.2748 1085.3534,-187.9058\"/>\n<polygon fill=\"#000000\" stroke=\"#000000\" points=\"1087.8685,-185.4464 1078.8943,-179.8149 1082.398,-189.8137 1087.8685,-185.4464\"/>\n</g>\n<!-- 27 -->\n<g id=\"node28\" class=\"node\">\n<title>27</title>\n<polygon fill=\"#f9fef4\" stroke=\"#000000\" points=\"1328,-187 1153,-187 1153,-104 1328,-104 1328,-187\"/>\n<text text-anchor=\"middle\" x=\"1240.5\" y=\"-171.8\" font-family=\"Helvetica,sans-Serif\" font-size=\"14.00\" fill=\"#000000\">x0 &lt;= 1.805</text>\n<text text-anchor=\"middle\" x=\"1240.5\" y=\"-156.8\" font-family=\"Helvetica,sans-Serif\" font-size=\"14.00\" fill=\"#000000\">entropy = 0.999</text>\n<text text-anchor=\"middle\" x=\"1240.5\" y=\"-141.8\" font-family=\"Helvetica,sans-Serif\" font-size=\"14.00\" fill=\"#000000\">samples = 103</text>\n<text text-anchor=\"middle\" x=\"1240.5\" y=\"-126.8\" font-family=\"Helvetica,sans-Serif\" font-size=\"14.00\" fill=\"#000000\">value = [50, 53, 0, 0, 0, 0]</text>\n<text text-anchor=\"middle\" x=\"1240.5\" y=\"-111.8\" font-family=\"Helvetica,sans-Serif\" font-size=\"14.00\" fill=\"#000000\">class = 1</text>\n</g>\n<!-- 25&#45;&gt;27 -->\n<g id=\"edge27\" class=\"edge\">\n<title>25&#45;&gt;27</title>\n<path fill=\"none\" stroke=\"#000000\" d=\"M1179.3766,-222.8796C1186.4197,-213.9633 1193.9293,-204.4565 1201.1874,-195.268\"/>\n<polygon fill=\"#000000\" stroke=\"#000000\" points=\"1204.0309,-197.3147 1207.483,-187.2981 1198.5379,-192.9757 1204.0309,-197.3147\"/>\n</g>\n<!-- 28 -->\n<g id=\"node29\" class=\"node\">\n<title>28</title>\n<polygon fill=\"#e58139\" stroke=\"#000000\" points=\"1231,-68 1064,-68 1064,0 1231,0 1231,-68\"/>\n<text text-anchor=\"middle\" x=\"1147.5\" y=\"-52.8\" font-family=\"Helvetica,sans-Serif\" font-size=\"14.00\" fill=\"#000000\">entropy = 0.0</text>\n<text text-anchor=\"middle\" x=\"1147.5\" y=\"-37.8\" font-family=\"Helvetica,sans-Serif\" font-size=\"14.00\" fill=\"#000000\">samples = 50</text>\n<text text-anchor=\"middle\" x=\"1147.5\" y=\"-22.8\" font-family=\"Helvetica,sans-Serif\" font-size=\"14.00\" fill=\"#000000\">value = [50, 0, 0, 0, 0, 0]</text>\n<text text-anchor=\"middle\" x=\"1147.5\" y=\"-7.8\" font-family=\"Helvetica,sans-Serif\" font-size=\"14.00\" fill=\"#000000\">class = 0</text>\n</g>\n<!-- 27&#45;&gt;28 -->\n<g id=\"edge28\" class=\"edge\">\n<title>27&#45;&gt;28</title>\n<path fill=\"none\" stroke=\"#000000\" d=\"M1205.8702,-103.9815C1198.2811,-94.8828 1190.24,-85.242 1182.6314,-76.1199\"/>\n<polygon fill=\"#000000\" stroke=\"#000000\" points=\"1185.1717,-73.7012 1176.0787,-68.2637 1179.7961,-78.1849 1185.1717,-73.7012\"/>\n</g>\n<!-- 29 -->\n<g id=\"node30\" class=\"node\">\n<title>29</title>\n<polygon fill=\"#9de539\" stroke=\"#000000\" points=\"1416,-68 1249,-68 1249,0 1416,0 1416,-68\"/>\n<text text-anchor=\"middle\" x=\"1332.5\" y=\"-52.8\" font-family=\"Helvetica,sans-Serif\" font-size=\"14.00\" fill=\"#000000\">entropy = 0.0</text>\n<text text-anchor=\"middle\" x=\"1332.5\" y=\"-37.8\" font-family=\"Helvetica,sans-Serif\" font-size=\"14.00\" fill=\"#000000\">samples = 53</text>\n<text text-anchor=\"middle\" x=\"1332.5\" y=\"-22.8\" font-family=\"Helvetica,sans-Serif\" font-size=\"14.00\" fill=\"#000000\">value = [0, 53, 0, 0, 0, 0]</text>\n<text text-anchor=\"middle\" x=\"1332.5\" y=\"-7.8\" font-family=\"Helvetica,sans-Serif\" font-size=\"14.00\" fill=\"#000000\">class = 1</text>\n</g>\n<!-- 27&#45;&gt;29 -->\n<g id=\"edge29\" class=\"edge\">\n<title>27&#45;&gt;29</title>\n<path fill=\"none\" stroke=\"#000000\" d=\"M1274.7574,-103.9815C1282.2649,-94.8828 1290.2196,-85.242 1297.7464,-76.1199\"/>\n<polygon fill=\"#000000\" stroke=\"#000000\" points=\"1300.5639,-78.2045 1304.2286,-68.2637 1295.1646,-73.7495 1300.5639,-78.2045\"/>\n</g>\n</g>\n</svg>\n",
      "text/plain": [
       "<graphviz.files.Source at 0x11fc49e80>"
      ]
     },
     "execution_count": 18,
     "metadata": {},
     "output_type": "execute_result"
    }
   ],
   "source": [
    "# conda install python-graphviz\n",
    "import graphviz\n",
    "modelDT_e = DecisionTreeClassifier(criterion='entropy', max_depth=7)\n",
    "modelDT_e.fit(scaled_train, y_train)\n",
    "modelDT_e_data = tree.export_graphviz(modelDT_e, out_file=None, filled=True, feature_names=['x0','x1'], class_names=['0','1','2','3','4','5'])\n",
    "graph = graphviz.Source(modelDT_e_data)\n",
    "graph"
   ]
  },
  {
   "cell_type": "markdown",
   "id": "96f46954",
   "metadata": {},
   "source": [
    "**Performance Metric Selection for Part 1**\n",
    "\n",
    "In this part, we have a classification problem and the number of classes for the target variable 'y' is 6 which are [0, 1, 2, 3, 4, 5]. From the context, there is not such a case like misclassification of one particular class is more important/costly than the misclassification of others. Hence, every misclassification have equal weights. In addition, the target variable is not binary. If it were binary, we could measure another metrics like precision or recall. For our dataset, it seems appropriate to use accuracy as the performance metric which is the total number of correctly classified observations over the total number of classifications performed. \n",
    "\n",
    "Among the classification models that we applied, the best performance is obtained with Decision Tree. "
   ]
  },
  {
   "cell_type": "markdown",
   "id": "91035765",
   "metadata": {},
   "source": [
    "**Part 2 - Clustering**"
   ]
  },
  {
   "cell_type": "markdown",
   "id": "059f59df",
   "metadata": {},
   "source": [
    "Clustering is a task type under the category of Unsupervised Learning. \n",
    "\n",
    "The aim of Clustering is to group observations in a given set based on a similarity metric like distance-based or density-based similarity. We evaluate the performance of the model based on a quality measure.\n",
    "\n",
    "However, we do not have the information of how many groups are there and the target values of any observations. \n",
    "Hence, instead of the test-train split approach that we can apply in Regression and Classification type problems, we employ whole data for model induction phase in Clustering."
   ]
  },
  {
   "cell_type": "code",
   "execution_count": 19,
   "id": "65f286ac",
   "metadata": {},
   "outputs": [
    {
     "data": {
      "text/html": [
       "<div>\n",
       "<style scoped>\n",
       "    .dataframe tbody tr th:only-of-type {\n",
       "        vertical-align: middle;\n",
       "    }\n",
       "\n",
       "    .dataframe tbody tr th {\n",
       "        vertical-align: top;\n",
       "    }\n",
       "\n",
       "    .dataframe thead th {\n",
       "        text-align: right;\n",
       "    }\n",
       "</style>\n",
       "<table border=\"1\" class=\"dataframe\">\n",
       "  <thead>\n",
       "    <tr style=\"text-align: right;\">\n",
       "      <th></th>\n",
       "      <th>x0</th>\n",
       "      <th>x1</th>\n",
       "    </tr>\n",
       "  </thead>\n",
       "  <tbody>\n",
       "    <tr>\n",
       "      <th>0</th>\n",
       "      <td>0.860758</td>\n",
       "      <td>1.566776</td>\n",
       "    </tr>\n",
       "    <tr>\n",
       "      <th>1</th>\n",
       "      <td>1.836593</td>\n",
       "      <td>0.984397</td>\n",
       "    </tr>\n",
       "    <tr>\n",
       "      <th>2</th>\n",
       "      <td>2.143536</td>\n",
       "      <td>1.608142</td>\n",
       "    </tr>\n",
       "    <tr>\n",
       "      <th>3</th>\n",
       "      <td>2.093995</td>\n",
       "      <td>1.335252</td>\n",
       "    </tr>\n",
       "    <tr>\n",
       "      <th>4</th>\n",
       "      <td>1.477705</td>\n",
       "      <td>1.539788</td>\n",
       "    </tr>\n",
       "  </tbody>\n",
       "</table>\n",
       "</div>"
      ],
      "text/plain": [
       "         x0        x1\n",
       "0  0.860758  1.566776\n",
       "1  1.836593  0.984397\n",
       "2  2.143536  1.608142\n",
       "3  2.093995  1.335252\n",
       "4  1.477705  1.539788"
      ]
     },
     "execution_count": 19,
     "metadata": {},
     "output_type": "execute_result"
    }
   ],
   "source": [
    "# We apply zero mean and unit standard deviation standardization to standardize our dataset as a whole\n",
    "standardscaler = StandardScaler()\n",
    "scaled_full = standardscaler.fit_transform(data.iloc[:,:2])\n",
    "scaled_full = pd.DataFrame(scaled_full, columns=['x0','x1'])\n",
    "scaled_full.head()\n",
    "\n",
    "# data.describe()"
   ]
  },
  {
   "cell_type": "code",
   "execution_count": 20,
   "id": "a084deb6",
   "metadata": {},
   "outputs": [
    {
     "data": {
      "text/plain": [
       "0       1\n",
       "1       1\n",
       "2       1\n",
       "3       1\n",
       "4       0\n",
       "       ..\n",
       "2995    4\n",
       "2996    4\n",
       "2997    5\n",
       "2998    4\n",
       "2999    4\n",
       "Name: y, Length: 3000, dtype: int64"
      ]
     },
     "execution_count": 20,
     "metadata": {},
     "output_type": "execute_result"
    }
   ],
   "source": [
    "data['y']"
   ]
  },
  {
   "cell_type": "markdown",
   "id": "f23b71d8",
   "metadata": {},
   "source": [
    "**Question 2 - k-means**"
   ]
  },
  {
   "cell_type": "markdown",
   "id": "3ecb2bf7",
   "metadata": {},
   "source": [
    "**Generate k-means models for k= 2, 3, 4, 5, 6, 7, 8, 9, and 10. Determine the optimal value of k by looking at the wss graph and silhouette scores.**"
   ]
  },
  {
   "cell_type": "markdown",
   "id": "66b019b1",
   "metadata": {},
   "source": [
    "**Within Sum of Squares(WSS)**"
   ]
  },
  {
   "cell_type": "code",
   "execution_count": 21,
   "id": "30c78b9f",
   "metadata": {},
   "outputs": [
    {
     "data": {
      "image/png": "[encoded data removed]",
      "text/plain": [
       "<Figure size 432x288 with 1 Axes>"
      ]
     },
     "metadata": {
      "needs_background": "light"
     },
     "output_type": "display_data"
    }
   ],
   "source": [
    "wss = []\n",
    "count = range(2,11)\n",
    "for k in count:\n",
    "    kmeans = KMeans(n_clusters=k, random_state=22)\n",
    "    kmeans = kmeans.fit(scaled_full)\n",
    "    wss.append(kmeans.inertia_)\n",
    "plt.plot(count, wss, \"b*-\")\n",
    "plt.xlabel(\"Number of clusters k\")\n",
    "plt.ylabel(\"Total Within Sum of Squares\")\n",
    "plt.title(\"Optimal number of clusters\")\n",
    "plt.show()\n"
   ]
  },
  {
   "cell_type": "markdown",
   "id": "572f34f9",
   "metadata": {},
   "source": [
    "**Comments on WSS Graph**\n",
    "\n",
    "It is generally considered as the measure of compactness. It calculates the Squared Error for each point as the square of the distance of the point from its predicted cluster center. Then, take the summation of these Squared Errors for all points. Different distance metrics such as Euclidean or Manhatten distance can be used. \n",
    "\n",
    "Based on the WSS graph, the optimal k value seems to be 5 since the bend in the knee occurs at this point.\n",
    "Until k = 5, the value of sum of squared values continue to decrease considerably as k increases. "
   ]
  },
  {
   "cell_type": "markdown",
   "id": "8943d942",
   "metadata": {},
   "source": [
    "**Average Silhouette Score**"
   ]
  },
  {
   "cell_type": "code",
   "execution_count": 22,
   "id": "3d2aa6ce",
   "metadata": {},
   "outputs": [
    {
     "name": "stdout",
     "output_type": "stream",
     "text": [
      "n_clusters = 2 The average silhouette_score is : 0.6731\n",
      "n_clusters = 3 The average silhouette_score is : 0.6409\n",
      "n_clusters = 4 The average silhouette_score is : 0.7129\n",
      "n_clusters = 5 The average silhouette_score is : 0.6668\n",
      "n_clusters = 6 The average silhouette_score is : 0.6458\n",
      "n_clusters = 7 The average silhouette_score is : 0.6567\n",
      "n_clusters = 8 The average silhouette_score is : 0.5667\n",
      "n_clusters = 9 The average silhouette_score is : 0.6748\n",
      "n_clusters = 10 The average silhouette_score is : 0.5849\n"
     ]
    },
    {
     "data": {
      "image/png": "[encoded data removed]",
      "text/plain": [
       "<Figure size 432x288 with 1 Axes>"
      ]
     },
     "metadata": {
      "needs_background": "light"
     },
     "output_type": "display_data"
    }
   ],
   "source": [
    "sil_avg = [0]\n",
    "count = range(2,11)\n",
    "for k in count:\n",
    "    kmeans = KMeans(n_clusters=k, random_state=22)\n",
    "    cluster_labels=kmeans.fit_predict(scaled_full)\n",
    "    silhouette_avg = silhouette_score(scaled_full, cluster_labels)\n",
    "    sil_avg.append(silhouette_avg)\n",
    "    print(\"n_clusters =\", k, \"The average silhouette_score is : %.4f\" % silhouette_avg)\n",
    "\n",
    "plt.plot(range(1,len(sil_avg)+1), sil_avg, \"b.-\")\n",
    "plt.xlabel(\"Number of clusters k\")\n",
    "plt.ylabel(\"Average silhouette width \")\n",
    "plt.title(\"Optimal number of clusters\")\n",
    "plt.axvline( color='r', x=sil_avg.index(max(sil_avg))+1 )\n",
    "plt.show()    "
   ]
  },
  {
   "cell_type": "markdown",
   "id": "db376ea2",
   "metadata": {},
   "source": [
    "**Comments on Average Silhouette Score**\n",
    "\n",
    "Silhouette Score measures how similar a point is to its own cluster compared with the other clusters. Hence, we want such a score to be as high as possible. \n",
    "\n",
    "Based on the Average Silhouette Score, the optimal value of k is 4. \n",
    "\n",
    "With the WSS Graph, we consider k = 5 as the optimal value. However, Average Silhouette Score indicates the optimal value as k = 4. \n",
    "\n",
    "Hence, it may be beneficial to apply another clustering algorithm to make a final decision. "
   ]
  },
  {
   "cell_type": "markdown",
   "id": "4fb1c516",
   "metadata": {},
   "source": [
    "**Question 3 - DBSCAN**\n",
    "\n",
    "Generate DBSCAN models for epsilon values between 0.1 (included) and 2.5(included) incrementing it with steps=0.10 and for min_samples=5, 10, 15 and 20. Find the optimal value of k by adjusted rand scores."
   ]
  },
  {
   "cell_type": "code",
   "execution_count": 23,
   "id": "8a8485cb",
   "metadata": {},
   "outputs": [
    {
     "name": "stdout",
     "output_type": "stream",
     "text": [
      "           5         10        15        20\n",
      "0.1  0.996536  0.994772  0.993899  0.992143\n",
      "0.2  0.824046  0.824046  0.823614  0.823614\n",
      "0.3  0.709095  0.709095  0.709095  0.709095\n",
      "0.4  0.254466  0.254466  0.254466  0.254466\n",
      "0.5  0.254466  0.254466  0.254466  0.254466\n",
      "0.6  0.254466  0.254466  0.254466  0.254466\n",
      "0.7  0.254466  0.254466  0.254466  0.254466\n",
      "0.8  0.254466  0.254466  0.254466  0.254466\n",
      "0.9  0.254466  0.254466  0.254466  0.254466\n",
      "1.0  0.254466  0.254466  0.254466  0.254466\n",
      "1.1  0.254466  0.254466  0.254466  0.254466\n",
      "1.2  0.254466  0.254466  0.254466  0.254466\n",
      "1.3  0.000000  0.000000  0.000000  0.000000\n",
      "1.4  0.000000  0.000000  0.000000  0.000000\n",
      "1.5  0.000000  0.000000  0.000000  0.000000\n",
      "1.6  0.000000  0.000000  0.000000  0.000000\n",
      "1.7  0.000000  0.000000  0.000000  0.000000\n",
      "1.8  0.000000  0.000000  0.000000  0.000000\n",
      "1.9  0.000000  0.000000  0.000000  0.000000\n",
      "2.0  0.000000  0.000000  0.000000  0.000000\n",
      "2.1  0.000000  0.000000  0.000000  0.000000\n",
      "2.2  0.000000  0.000000  0.000000  0.000000\n",
      "2.3  0.000000  0.000000  0.000000  0.000000\n",
      "2.4  0.000000  0.000000  0.000000  0.000000\n",
      "2.5  0.000000  0.000000  0.000000  0.000000\n"
     ]
    }
   ],
   "source": [
    "cluster_hyperparameter = pd.DataFrame(columns = [])\n",
    "for e in range(1,26):\n",
    "    for s in range(5,21,5):\n",
    "        clustering = DBSCAN(eps=e/10, min_samples=s) \n",
    "        clusters = clustering.fit_predict(scaled_full)\n",
    "        cluster_hyperparameter.loc[e/10, s] = adjusted_rand_score(data['y'], clusters)\n",
    "                \n",
    "print(cluster_hyperparameter)\n",
    "\n",
    "# Printing the model with the best tuned parameters is performed in Question 4\n",
    "\n",
    "# cluster_results = pd.DataFrame(columns = ['true class', 'predicted class'])\n",
    "# for i in range(3000):\n",
    "# cluster_results.loc[i]=(data['y'].loc[i], clusters[i])\n",
    "# print(cluster_results)\n"
   ]
  },
  {
   "cell_type": "markdown",
   "id": "de72a2b9",
   "metadata": {},
   "source": [
    "**Comments on DBSCAN**\n",
    "\n",
    "Epsilon is the radius of the circles that the algorithm draws. \n",
    "As we increase epsilon, the model may include more points in a specific cluster since the radius is longer. \n",
    "We should be careful because some points that are not very similar to the other points may be included in the same cluster as well and the accuracy may decrease. \n",
    "\n",
    "Min samples is the number of points that we want to have in the circles drawn by the model. Similar to the case of increasing epsilon value, the accuracy may decrease while increasing the minimum number of samples. The reason is that, the model may consider and include more points in a specific cluster, even if the points are not quite density-connected. \n",
    "\n",
    "When we try different parameters for DBSCAN models, we observe that the maximum accuracy of 0.9965 is achieved with epsilon = 0.1 and minimum number of sample points = 5. \n"
   ]
  },
  {
   "cell_type": "markdown",
   "id": "faabf394",
   "metadata": {},
   "source": [
    "**Question 4**\n",
    "\n",
    "**Plot the clusters for only the optimal k values based on predicted clusters that you obtain Q2 and Q3.**"
   ]
  },
  {
   "cell_type": "markdown",
   "id": "6a75c0d4",
   "metadata": {},
   "source": [
    "In Question 2, we observed that the optimal k values may be 4 or 5."
   ]
  },
  {
   "cell_type": "code",
   "execution_count": 24,
   "id": "b3e3d497",
   "metadata": {},
   "outputs": [
    {
     "data": {
      "text/plain": [
       "Text(0, 0.5, 'x1')"
      ]
     },
     "execution_count": 24,
     "metadata": {},
     "output_type": "execute_result"
    },
    {
     "data": {
      "image/png": "[encoded data removed]",
      "text/plain": [
       "<Figure size 432x288 with 1 Axes>"
      ]
     },
     "metadata": {
      "needs_background": "light"
     },
     "output_type": "display_data"
    }
   ],
   "source": [
    "kmeans = KMeans(n_clusters=4, random_state=22)\n",
    "df=scaled_full[[\"x0\",\"x1\"]].copy()\n",
    "df[\"clusters\"]=kmeans.fit_predict(scaled_full)\n",
    "plt.scatter(df[\"x0\"], df[\"x1\"],c=df.clusters)      \n",
    "plt.xlabel(\"x0\")\n",
    "plt.ylabel(\"x1\")"
   ]
  },
  {
   "cell_type": "code",
   "execution_count": 25,
   "id": "e8352aea",
   "metadata": {},
   "outputs": [
    {
     "data": {
      "text/plain": [
       "Text(0, 0.5, 'x1')"
      ]
     },
     "execution_count": 25,
     "metadata": {},
     "output_type": "execute_result"
    },
    {
     "data": {
      "image/png": "[encoded data removed]",
      "text/plain": [
       "<Figure size 432x288 with 1 Axes>"
      ]
     },
     "metadata": {
      "needs_background": "light"
     },
     "output_type": "display_data"
    }
   ],
   "source": [
    "kmeans = KMeans(n_clusters=5, random_state=22)\n",
    "df=scaled_full[[\"x0\",\"x1\"]].copy()\n",
    "df[\"clusters\"]=kmeans.fit_predict(scaled_full)\n",
    "plt.scatter(df[\"x0\"], df[\"x1\"],c=df.clusters)      \n",
    "plt.xlabel(\"x0\")\n",
    "plt.ylabel(\"x1\")"
   ]
  },
  {
   "cell_type": "markdown",
   "id": "82954c60",
   "metadata": {},
   "source": [
    "In Question 3, based on DBSCAN, the optimal k value is k = 6 with e = 0.1 and min_sample = 5."
   ]
  },
  {
   "cell_type": "code",
   "execution_count": 26,
   "id": "6773aaa1",
   "metadata": {},
   "outputs": [
    {
     "data": {
      "image/png": "[encoded data removed]",
      "text/plain": [
       "<Figure size 432x288 with 1 Axes>"
      ]
     },
     "metadata": {
      "needs_background": "light"
     },
     "output_type": "display_data"
    },
    {
     "name": "stdout",
     "output_type": "stream",
     "text": [
      "3000\n",
      "Estimated number of optimal clusters: 6\n",
      "Estimated number of noise points: 8\n",
      "Adjusted rand score: 0.9965358935695121\n"
     ]
    }
   ],
   "source": [
    "clustering_optimal = DBSCAN(eps=0.1, min_samples=5) \n",
    "clusters_optimal = clustering_optimal.fit_predict(scaled_full)\n",
    "plt.scatter(scaled_full['x0'], scaled_full['x1'], c = clusters_optimal, cmap= \"plasma\")\n",
    "plt.xlabel(\"x0\")\n",
    "plt.ylabel(\"x1\")\n",
    "plt.show() \n",
    "print(len(clusters_optimal))\n",
    "number_of_noise = np.sum(np.array(clusters_optimal) == -1, axis=0)\n",
    "clusters_without_noise = np.delete(clusters_optimal, np.where(clusters_optimal == -1))\n",
    "number_of_optimal_clusters = len(np.unique(clusters_without_noise))\n",
    "print('Estimated number of optimal clusters: %d' % number_of_optimal_clusters)\n",
    "print('Estimated number of noise points: %d' % number_of_noise) \n",
    "print('Adjusted rand score:', adjusted_rand_score(data['y'], clusters_optimal))\n"
   ]
  },
  {
   "cell_type": "markdown",
   "id": "7cf3e904",
   "metadata": {},
   "source": [
    "**Plot the original data based on the true labels.**"
   ]
  },
  {
   "cell_type": "code",
   "execution_count": 27,
   "id": "271655dd",
   "metadata": {},
   "outputs": [
    {
     "data": {
      "image/png": "[encoded data removed]",
      "text/plain": [
       "<Figure size 432x288 with 1 Axes>"
      ]
     },
     "metadata": {
      "needs_background": "light"
     },
     "output_type": "display_data"
    }
   ],
   "source": [
    "data2 = data\n",
    "data2.head()\n",
    "data2.drop('x0', inplace=True, axis=1)\n",
    "data2.drop('x1', inplace=True, axis=1)\n",
    "scaled_full_with_target = scaled_full.join(data2)\n",
    "scaled_full_with_target.head()\n",
    "ax = sns.scatterplot(x='x0', hue='y', y='x1', data=scaled_full_with_target)\n"
   ]
  },
  {
   "cell_type": "markdown",
   "id": "8559ed24",
   "metadata": {},
   "source": [
    "**Did you obtain the same optimal k values in Q2 and Q3? Comment on the quality of the clusters that you obtained in Q2 and Q3.** \n",
    "\n",
    "No, we obtained different k values in Question 2 and 3. The reason is that, the K-means algorithm and the DBSCAN algorithm have different logic behind them. \n",
    "\n",
    "The quality of the clusters obtained by the DBSCAN much higher than the K-means algorithm.\n",
    "\n",
    "**Can we predict the true label of the data by using clustering?** \n",
    "\n",
    "Based on the results we obtained, yes, we can predict true labels for our observations by using clustering with the DBSCAN algorithm.\n",
    "\n",
    "**Which algorithm gave a better result? What could be the reason one of them outperforms in different cases?**\n",
    "\n",
    "To cluster our dataset, the DBSCAN model presents a better result than the K-means model. \n",
    "In fact, the DBSCAN model correctly perform clustering when we compare the true classes of observations with an adjusted round score equals to 0.99654. It finds 8 observations as noise (outliers). \n",
    "\n",
    "K-means algorithm is more sensitive to outliers than the DBSCAN algorithm. \n",
    "We need to explicitly specify the number of clusters that will be tried by the model. \n",
    "If it starts with different centroids, the results may be different. \n",
    "It is not suitable to identify clusters with non-convex shapes and nested round shapes. We observed this situation in our dataset as well. Since the data has a nested round part and a non-convex portion, K-means model could not distinguish these clusters correctly. As an example, even if we increase the number of cluster from 4 to 5, it still can not correctly cluster these portions.\n",
    "\n",
    "The DBSCAN defines a cluster as the maximum set of density-connected points. It is powerful to identify arbitrary shapes and also noise observations. In our problem, it successfully partitions our dataset including a nested round shape and also a non-convex portion. "
   ]
  },
  {
   "cell_type": "code",
   "execution_count": null,
   "id": "50c0e18f",
   "metadata": {},
   "outputs": [],
   "source": []
  }
 ],
 "metadata": {
  "kernelspec": {
   "display_name": "Python 3.9.0 64-bit",
   "language": "python",
   "name": "python3"
  },
  "language_info": {
   "codemirror_mode": {
    "name": "ipython",
    "version": 3
   },
   "file_extension": ".py",
   "mimetype": "text/x-python",
   "name": "python",
   "nbconvert_exporter": "python",
   "pygments_lexer": "ipython3",
   "version": "3.9.0"
  },
  "vscode": {
   "interpreter": {
    "hash": "aee8b7b246df8f9039afb4144a1f6fd8d2ca17a180786b69acc140d282b71a49"
   }
  }
 },
 "nbformat": 4,
 "nbformat_minor": 5
}
