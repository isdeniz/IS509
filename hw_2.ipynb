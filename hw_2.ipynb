{
 "cells": [
  {
   "cell_type": "markdown",
   "metadata": {},
   "source": [
    "## IS509 Assignment 2\n",
    "\n",
    "### The aim of this assignment is getting familiar with\n",
    "- Statistical hypothesis testing\n",
    "\n",
    "Note: Please see https://scikit-posthocs.readthedocs.io/en/latest/posthocs_api/ \n"
   ]
  },
  {
   "cell_type": "code",
   "execution_count": 1,
   "metadata": {},
   "outputs": [
    {
     "data": {
      "text/html": [
       "<style>\n",
       "table {float:left}\n",
       "</style>\n"
      ],
      "text/plain": [
       "<IPython.core.display.HTML object>"
      ]
     },
     "metadata": {},
     "output_type": "display_data"
    }
   ],
   "source": [
    "%%html\n",
    "<style>\n",
    "table {float:left}\n",
    "</style>"
   ]
  },
  {
   "cell_type": "code",
   "execution_count": 2,
   "metadata": {},
   "outputs": [],
   "source": [
    "from scipy import stats\n",
    "import pandas as pd\n",
    "import numpy as np\n",
    "import scikit_posthocs as sp\n"
   ]
  },
  {
   "cell_type": "markdown",
   "metadata": {},
   "source": [
    "**Import the libraries you need.**  "
   ]
  },
  {
   "cell_type": "markdown",
   "metadata": {},
   "source": [
    "## Q1.   \n",
    "A university professor was giving online lectures instead of face-to-face classes due to Covid-19. Later, he uploaded recorded lectures to the cloud for students who follow the course asynchronously (the students who did not attend the lesson but later watch the records). However, he believes that the students who attend class at the class time and participate in the process are more successful. Therefore, he recorded the average grades of the students at the end of the semester. The data is below.  \n",
    "\n",
    "synchronous = [94. , 84.9, 82.6, 69.5, 80.1, 79.6, 81.4, 77.8, 81.7, 78.8, 73.2, 87.9, 87.9, 93.5, 82.3, 79.3, 78.3, 71.6, 88.6, 74.6, 74.1, 80.6]      \n",
    "asynchronous = [77.1, 71.7, 91. , 72.2, 74.8, 85.1, 67.6, 69.9, 75.3, 71.7, 65.7, 72.6, 71.5, 78.2]\n",
    "\n",
    "**Conduct the hypothesis testing to check whether the professor's belief is statistically significant by using a 0.05 significance level to evaluate the null and alternative hypotheses. Before doing hypothesis testing, check the related assumptions. Comment on the results.**\n",
    "\n",
    "----------------"
   ]
  },
  {
   "cell_type": "code",
   "execution_count": 3,
   "metadata": {
    "scrolled": true
   },
   "outputs": [
    {
     "name": "stdout",
     "output_type": "stream",
     "text": [
      "We fail to reject the null hypothesis and assume that datasets have equal variances according to the Levene's Test\n",
      "We fail to reject the null hypothesis and assume that datasets have equal variances according to the Bartlett's Test\n",
      "We fail to reject the null hypothesis and assume that grades for synchronous set are Normally Distributed\n",
      "We fail to reject the null hypothesis and assume that grades for asynchronous set are Normally Distributed\n",
      "We can reject the null hypothesis and conclude that the students who attend class at class time are more successful\n"
     ]
    }
   ],
   "source": [
    "# We can apply the t-test, \n",
    "# but first we need to check Homogeneity (equal variances) and Normality\n",
    "# H_0: The datasets have equal variances \n",
    "# H_a: The datasets do not have equal variances \n",
    "\n",
    "synchronous = [94 , 84.9, 82.6, 69.5, 80.1, 79.6, 81.4, 77.8, 81.7, 78.8, 73.2, 87.9, 87.9, 93.5, 82.3, 79.3, 78.3, 71.6, 88.6, 74.6, 74.1, 80.6]\n",
    "asynchronous = [77.1, 71.7, 91 , 72.2, 74.8, 85.1, 67.6, 69.9, 75.3, 71.7, 65.7, 72.6, 71.5, 78.2]\n",
    "\n",
    "alpha = 0.05 \n",
    "\n",
    "test_stat_levene, p_value_levene=stats.levene(synchronous, asynchronous)\n",
    "test_stat_bartlett, p_value_bartlett=stats.bartlett(synchronous, asynchronous)\n",
    "\n",
    "if p_value_levene > alpha:\n",
    "    print(\"We fail to reject the null hypothesis and assume that datasets have equal variances according to the Levene's Test\")\n",
    "else:\n",
    "    print(\"We reject the null hypothesis and conclude that datasets does NOT have equal variances according to the Levene's Test\")\n",
    "\n",
    "if p_value_bartlett > alpha:\n",
    "    print(\"We fail to reject the null hypothesis and assume that datasets have equal variances according to the Bartlett's Test\")\n",
    "else:\n",
    "    print(\"We reject the null hypothesis and conclude that datasets does NOT have equal variances according to the Bartlett's Test\")    \n",
    "\n",
    "# Next, we check the Normality of these two datasets \n",
    "# H_0: The data is Normally Distributed\n",
    "# H_a: The data is not Normally Distributed\n",
    "\n",
    "test_stat_shapiro_s, p_value_shapiro_s=stats.shapiro(synchronous)\n",
    "test_stat_shapiro_a, p_value_shapiro_a=stats.shapiro(asynchronous)\n",
    "\n",
    "if p_value_shapiro_s > alpha:\n",
    "    print(\"We fail to reject the null hypothesis and assume that grades for synchronous set are Normally Distributed\")\n",
    "else:\n",
    "    print(\"We reject the null hypothesis and conclude that grades for synchronous set are NOT Normally Distributed\")\n",
    "\n",
    "if p_value_shapiro_a > alpha:\n",
    "    print(\"We fail to reject the null hypothesis and assume that grades for asynchronous set are Normally Distributed\")\n",
    "else:\n",
    "    print(\"We reject the null hypothesis and conclude that grades for asynchronous set are NOT Normally Distributed\")\n",
    "\n",
    "# In the next step, since we want to check if the students who attend class at the class time are more successful,\n",
    "# we put this situation to the alternative hypothesis\n",
    "\n",
    "# H_0: The average grade of students synchronously attending <= The average grade of students asynchronously attending\n",
    "# H_a: The average grade of students synchronously attending > The average grade of students asynchronously attending\n",
    "\n",
    "t_stat, p_value_t_test = stats.ttest_ind(synchronous, asynchronous)\n",
    "\n",
    "# Since scipy.t test gives a p-value for two-tail test, we need to divide the p-value by 2 for comparison\n",
    "\n",
    "if p_value_t_test/2 > alpha:\n",
    "    print(\"We fail to reject the null hypothesis and assume that the average grade of students synchronously attending is less than or equal to the average grade of students asynchronously attending\")\n",
    "else: \n",
    "    print(\"We can reject the null hypothesis and conclude that the students who attend class at class time are more successful\")\n",
    "    "
   ]
  },
  {
   "cell_type": "markdown",
   "metadata": {},
   "source": [
    "## Q2.\n",
    "\n",
    "Ten students were diagnosed with diabetes by the METU Health Center in the previous semester. Healthcare personnel told these patients about the dangers of high glucose levels and prescribed a diet program. The patients came for control one month later, and their blood glucose level was reexamined. Test whether there is a difference in the glucose levels of the patients.\n",
    "\n",
    "**According to this information, conduct the hypothesis testing to check whether there is a decrease in the cholesterol levels of the patients after the diet by using a 0.05 significance level. Before doing hypothesis testing, check the related assumptions. Comment on the results.**\n",
    "\n",
    "test_results_before_diet= [225.83, 229.44, 208.64, 246.4 , 212.07, 221.58, 235.03, 217.55, 219.42, 220.91]   \n",
    "test_results_after_diet= [196.46, 188.2 , 198.42, 209.8 , 186.96, 186.96, 210.53, 199.98, 183.9 , 197.05]\n",
    "\n",
    "\n",
    "------------"
   ]
  },
  {
   "cell_type": "code",
   "execution_count": 4,
   "metadata": {},
   "outputs": [
    {
     "name": "stdout",
     "output_type": "stream",
     "text": [
      "We fail to reject the null hypothesis and assume that datasets have equal variances according to the Levene's Test\n",
      "We fail to reject the null hypothesis and assume that datasets have equal variances according to the Bartlett's Test\n",
      "We fail to reject the null hypothesis and assume that results before diet are Normally Distributed\n",
      "We fail to reject the null hypothesis and assume that results after diet are Normally Distributed\n",
      "We can reject the null hypothesis and conclude that there is significant decrease after the diet\n"
     ]
    }
   ],
   "source": [
    "# To apply the Paired t-test, \n",
    "# we need to check Homogeneity (equal variances) and Normality\n",
    "# H_0: The datasets have equal variances \n",
    "# H_a: The datasets do not have equal variances \n",
    "\n",
    "test_results_before_diet = [225.83, 229.44, 208.64, 246.4 , 212.07, 221.58, 235.03, 217.55, 219.42, 220.91]\n",
    "test_results_after_diet = [196.46, 188.2 , 198.42, 209.8 , 186.96, 186.96, 210.53, 199.98, 183.9 , 197.05]\n",
    "\n",
    "alpha = 0.05 \n",
    "\n",
    "test_stat_levene_diet, p_value_levene_diet=stats.levene(test_results_before_diet, test_results_after_diet)\n",
    "test_stat_bartlett_diet, p_value_bartlett_diet=stats.bartlett(test_results_before_diet, test_results_after_diet)\n",
    "\n",
    "if p_value_levene_diet > alpha:\n",
    "    print(\"We fail to reject the null hypothesis and assume that datasets have equal variances according to the Levene's Test\")\n",
    "else:\n",
    "    print(\"We reject the null hypothesis and conclude that datasets does NOT have equal variances according to the Levene's Test\")\n",
    "\n",
    "if p_value_bartlett_diet > alpha:\n",
    "    print(\"We fail to reject the null hypothesis and assume that datasets have equal variances according to the Bartlett's Test\")\n",
    "else:\n",
    "    print(\"We reject the null hypothesis and conclude that datasets does NOT have equal variances according to the Bartlett's Test\")    \n",
    "\n",
    "# Next, we check the Normality of these two datasets \n",
    "# H_0: The data is Normally Distributed\n",
    "# H_a: The data is not Normally Distributed\n",
    "\n",
    "test_stat_shapiro_before, p_value_shapiro_before=stats.shapiro(test_results_before_diet)\n",
    "test_stat_shapiro_after, p_value_shapiro_after=stats.shapiro(test_results_after_diet)\n",
    "\n",
    "if p_value_shapiro_before > alpha:\n",
    "    print(\"We fail to reject the null hypothesis and assume that results before diet are Normally Distributed\")\n",
    "else:\n",
    "    print(\"We reject the null hypothesis and conclude that results before diet are NOT Normally Distributed\")\n",
    "\n",
    "if p_value_shapiro_after > alpha:\n",
    "    print(\"We fail to reject the null hypothesis and assume that results after diet are Normally Distributed\")\n",
    "else:\n",
    "    print(\"We reject the null hypothesis and conclude that results after diet are NOT Normally Distributed\")\n",
    "\n",
    "#Next, we implement the Paired T-Test\n",
    "# Since we want to check if there is a decrease in the cholesterol levels of the patients after the diet,\n",
    "# we put this situation to the alternative hypothesis\n",
    "\n",
    "# H_0: There is no decrease after the diet (Mean of differences between before and after <= 0)\n",
    "# H_a: There is a decrease after the diet (􏰀Mean of differences between before and after > 0)\n",
    "\n",
    "paired_t_stat, p_value_paired_t_test = stats.ttest_rel(test_results_before_diet, test_results_after_diet)\n",
    "\n",
    "# Since scipy.t test gives a p-value for two-tail test, we need to divide the p-value by 2 for comparison\n",
    "\n",
    "if p_value_paired_t_test/2 > alpha:\n",
    "    print(\"We fail to reject the null hypothesis and assume that there is no significant decrease after the diet\")\n",
    "else: \n",
    "    print(\"We can reject the null hypothesis and conclude that there is significant decrease after the diet\")\n"
   ]
  },
  {
   "cell_type": "markdown",
   "metadata": {},
   "source": [
    "## Q3.\n",
    "\n",
    "An analyst of a financial investment company is curious about the relationship between gender and risk appetite. A random sample was taken of 660 customers from the database. The customers in the sample were classified according to their gender and their risk appetite. The result is given in the following table.\n"
   ]
  },
  {
   "cell_type": "markdown",
   "metadata": {},
   "source": [
    "| **Gender/Risk Appetite** | Very Low | Low | Medium | High | Very High | Total |\n",
    "|:--------------------:|:--------:|:---:|:------:|:----:|:---------:|:-----:|\n",
    "|        **Female**        |    53    |  23 |   30   |  36  |     88    |  230  |\n",
    "|         **Male**         |    71    |  48 |   51   |  57  |    203    |  430  |\n",
    "|         **Total**        |    124   |  71 |   81   |  93  |    291    |  660  |"
   ]
  },
  {
   "cell_type": "markdown",
   "metadata": {},
   "source": [
    "Test the hypothesis that the risk appetite of the customers in this company is independent of their gender. Use α = 0.01.    \n",
    "\n",
    "-------"
   ]
  },
  {
   "cell_type": "code",
   "execution_count": 5,
   "metadata": {},
   "outputs": [
    {
     "name": "stdout",
     "output_type": "stream",
     "text": [
      "We fail to reject the null hypothesis and assume that the risk appetite and gender are independent\n"
     ]
    }
   ],
   "source": [
    "# Since we have a random sample which has large number of observations, we can apply the Chi Square Test \n",
    "\n",
    "# H_0: The risk appetite of the customers in this company is independent of their gender\n",
    "# H_a: The risk appetite of the customers in this company is dependent of their gender\n",
    "\n",
    "observed = pd.DataFrame({'Female': [53, 23, 30, 36, 88],\n",
    "                       'Male': [71, 48, 51, 57, 203]},\n",
    "                   index=['Very Low','Low','Medium','High','Very High'])\n",
    "\n",
    "total = observed.Female+observed.Male\n",
    "overall = total/total.sum()\n",
    "\n",
    "expected = pd.DataFrame({'Female': np.rint(overall*observed.Female.sum()), ##np.rint >Round elements of the array to the nearest integer.\n",
    "                         'Male': np.rint(overall*observed.Male.sum())},\n",
    "                   index=['Very Low','Low','Medium','High','Very High'])\n",
    "\n",
    "chi_t_stat, p_value_chi = stats.chisquare(f_obs=observed, f_exp=expected, axis=None, ddof=5)\n",
    "\n",
    "alpha = 0.01\n",
    "\n",
    "if p_value_chi > alpha:\n",
    "    print(\"We fail to reject the null hypothesis and assume that the risk appetite and gender are independent\")\n",
    "else: \n",
    "    print(\"We can reject the null hypothesis and conclude that the risk appetite and gender are significantly dependent\")\n"
   ]
  },
  {
   "cell_type": "markdown",
   "metadata": {},
   "source": [
    "## Q4.\n",
    "\n",
    "A researcher was curious about whether there is a difference between in terms of performance her own developed methodology C and baseline methods A and B.  Therefore, she decided to design different experiments and recorded the achieved accuracy by each method.\n",
    "\n",
    "The below table shows the achieved accuracy on test sets by each method.  Please note that same train and test sets were used for each method\n"
   ]
  },
  {
   "cell_type": "markdown",
   "metadata": {},
   "source": [
    "| Experiment |   A  |   B  |   C  |\n",
    "|:----------:|:----:|:----:|:----:|\n",
    "|     E1     | 89.8 | 90.0 | 91.5 |\n",
    "|     E2     | 89.9 | 90.1 | 90.7 |\n",
    "|     E3     | 88.6 | 88.8 | 90.3 |\n",
    "|     E4     | 88.7 | 88.9 | 90.4 |\n",
    "|     E5     | 89.6 | 89.9 | 90.2 |\n",
    "|     E6     | 89.7 | 90.0 | 90.3 |\n",
    "|     E7     | 89.2 | 89.0 | 90.2 |\n",
    "|     E8     | 89.3 | 89.2 | 90.3 | "
   ]
  },
  {
   "cell_type": "markdown",
   "metadata": {},
   "source": [
    "**According to this information, conduct the hypothesis testing to check whether there is a difference between the performance of the methods by using a 0.05 significance level. If there is a significant difference, perform further analysis to find which one caused the difference. Before doing hypothesis testing, check the related assumptions. Comment on the results.** "
   ]
  },
  {
   "cell_type": "code",
   "execution_count": 6,
   "metadata": {},
   "outputs": [
    {
     "name": "stdout",
     "output_type": "stream",
     "text": [
      "We fail to reject the null hypothesis and assume that datasets have equal variances according to the Levene's Test\n",
      "We fail to reject the null hypothesis and assume that datasets have equal variances according to the Bartlett's Test\n",
      "We fail to reject the null hypothesis and assume that the results for method A are Normally Distributed\n",
      "We fail to reject the null hypothesis and assume that the results for method B are Normally Distributed\n",
      "We can reject the null hypothesis and conclude that the results for method C are not Normally Distributed\n",
      "Although the performance results of method C cannot be assumed as Normally Distributed, ANOVA is fairly robust for the violation of the Normality assumption\n",
      "We reject the null hypothesis and conclude that the performance of at least one method is significantly different than the others\n",
      "          1         2         3\n",
      "1  1.000000  1.000000  0.000691\n",
      "2  1.000000  1.000000  0.005487\n",
      "3  0.000691  0.005487  1.000000\n",
      "We fail to reject the null hypothesis and conclude that there is no significant difference between method A and B\n",
      "We reject the null hypothesis and conclude that method A and method C are significantly different\n",
      "We reject the null hypothesis and conclude that method B and method C are significantly different\n"
     ]
    }
   ],
   "source": [
    "method_A = [89.8,89.9,88.6,88.7,89.6,89.7,89.2,89.3]\n",
    "method_B = [90.0,90.1,88.8,88.9,89.9,90.0,89.0,89.2]\n",
    "method_C = [91.5,90.7,90.3,90.4,90.2,90.3,90.2,90.3]\n",
    "\n",
    "alpha = 0.05\n",
    "    \n",
    "# For Equal Variances: \n",
    "# H_0: The data sets have equal variances \n",
    "# H_a: The data sets do not have equal variances \n",
    "test_stat_levene_Q4, p_value_levene_Q4=stats.levene(method_A, method_B, method_C)\n",
    "test_stat_bartlett_Q4, p_value_bartlett_Q4=stats.bartlett(method_A, method_B, method_C)\n",
    "\n",
    "if p_value_levene_Q4 > alpha:\n",
    "    print(\"We fail to reject the null hypothesis and assume that datasets have equal variances according to the Levene's Test\")\n",
    "else: \n",
    "    print(\"We reject the null hypothesis and conclude that datasets does NOT have equal variances according to the Levene's Test\")\n",
    "    \n",
    "if p_value_bartlett_Q4 > alpha:\n",
    "    print(\"We fail to reject the null hypothesis and assume that datasets have equal variances according to the Bartlett's Test\")\n",
    "else: \n",
    "    print(\"We reject the null hypothesis and conclude that datasets does NOT have equal variances according to the Bartlett's Test\")\n",
    "\n",
    "# For Normality:\n",
    "# H_0: The data is Normally Distributed\n",
    "# H_a: The data is not Normally Distributed\n",
    "\n",
    "test_stat_shapiro_A, p_value_shapiro_A=stats.shapiro(method_A)\n",
    "test_stat_shapiro_B, p_value_shapiro_B=stats.shapiro(method_B)\n",
    "test_stat_shapiro_C, p_value_shapiro_C=stats.shapiro(method_C)\n",
    "\n",
    "if p_value_shapiro_A > alpha:\n",
    "    print(\"We fail to reject the null hypothesis and assume that the results for method A are Normally Distributed\")\n",
    "else: \n",
    "    print(\"We can reject the null hypothesis and conclude that the results for method A are not Normally Distributed\")\n",
    "    \n",
    "if p_value_shapiro_B > alpha:\n",
    "    print(\"We fail to reject the null hypothesis and assume that the results for method B are Normally Distributed\")\n",
    "else: \n",
    "    print(\"We can reject the null hypothesis and conclude that the results for method B are not Normally Distributed\")  \n",
    "\n",
    "if p_value_shapiro_C > alpha:\n",
    "    print(\"We fail to reject the null hypothesis and assume that the results for method C are Normally Distributed\")\n",
    "else: \n",
    "    print(\"We can reject the null hypothesis and conclude that the results for method C are not Normally Distributed\")\n",
    "    \n",
    "print(\"Although the performance results of method C cannot be assumed as Normally Distributed, ANOVA is fairly robust for the violation of the Normality assumption\")\n",
    "    \n",
    "# One-way ANOVA Test:\n",
    "# H_0: The methods are not significantly different  \n",
    "# H_a: The methods are significantly different \n",
    "\n",
    "anova_stat, anova_p_value = stats.f_oneway(method_A, method_B, method_C)\n",
    "\n",
    "if anova_p_value > alpha:\n",
    "    print(\"We fail to reject the null hypothesis and conclude that there is no significant difference in performance of these methods\")\n",
    "else: \n",
    "    print(\"We reject the null hypothesis and conclude that the performance of at least one method is significantly different than the others\")\n",
    "    \n",
    "   \n",
    "results = [method_A,method_B,method_C]\n",
    "\n",
    "output = pd.DataFrame(sp.posthoc_dunn(results, p_adjust='bonferroni'))\n",
    "\n",
    "print(output)\n",
    "\n",
    "if output.loc[1,2] > alpha:\n",
    "    print(\"We fail to reject the null hypothesis and conclude that there is no significant difference between method A and B\")\n",
    "else: \n",
    "    print(\"We reject the null hypothesis and conclude that method A and method B are significantly different\")\n",
    "    \n",
    "if output.loc[1,3] > alpha:\n",
    "    print(\"We fail to reject the null hypothesis and conclude that there is no significant difference between method A and C\")\n",
    "else: \n",
    "    print(\"We reject the null hypothesis and conclude that method A and method C are significantly different\")\n",
    "    \n",
    "if output.loc[2,3] > alpha:\n",
    "    print(\"We fail to reject the null hypothesis and conclude that there is no significant difference between method B and C\")\n",
    "else: \n",
    "    print(\"We reject the null hypothesis and conclude that method B and method C are significantly different\")\n",
    "    \n"
   ]
  },
  {
   "cell_type": "markdown",
   "metadata": {},
   "source": [
    "Since one of the group is not normal nonparametric versions should be preffered. // Also, data is  paired, the scores are obtained from the same observations //Nonparametric Paired Test for >2 Groups (simply nonparametric paired version of anova) friedmanchisquare should be used// posthoc test should also be for nonparametric version of paired data >> the simplest choice is posthoc_wilcoxon or posthoc_nemenyi_friedman (C is different than others)"
   ]
  },
  {
   "cell_type": "markdown",
   "metadata": {},
   "source": [
    "---------------------"
   ]
  }
 ],
 "metadata": {
  "kernelspec": {
   "display_name": "Python 3.9.0 64-bit",
   "language": "python",
   "name": "python3"
  },
  "language_info": {
   "codemirror_mode": {
    "name": "ipython",
    "version": 3
   },
   "file_extension": ".py",
   "mimetype": "text/x-python",
   "name": "python",
   "nbconvert_exporter": "python",
   "pygments_lexer": "ipython3",
   "version": "3.9.0"
  },
  "vscode": {
   "interpreter": {
    "hash": "aee8b7b246df8f9039afb4144a1f6fd8d2ca17a180786b69acc140d282b71a49"
   }
  }
 },
 "nbformat": 4,
 "nbformat_minor": 4
}
